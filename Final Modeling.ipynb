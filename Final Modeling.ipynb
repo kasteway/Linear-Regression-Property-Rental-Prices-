{
 "cells": [
  {
   "cell_type": "code",
   "execution_count": 1,
   "id": "215640ba",
   "metadata": {
    "ExecuteTime": {
     "end_time": "2020-10-09T01:46:15.426439Z",
     "start_time": "2020-10-09T01:46:14.277661Z"
    }
   },
   "outputs": [],
   "source": [
    "\n",
    "import pandas as pd\n",
    "import numpy as np\n",
    "import seaborn as sns\n",
    "import matplotlib.pyplot as plt\n",
    "import matplotlib.pylab as plb \n",
    "%matplotlib inline\n",
    "\n",
    "import statsmodels.api as sm\n",
    "from sklearn.model_selection import train_test_split, KFold\n",
    "from sklearn.linear_model import LinearRegression, Lasso, LassoCV, Ridge, RidgeCV\n",
    "from sklearn.preprocessing import StandardScaler, PolynomialFeatures\n",
    "from sklearn.metrics import r2_score, mean_squared_error\n",
    "\n",
    "sns.set(context='notebook', style='whitegrid', font_scale=1.2)"
   ]
  },
  {
   "cell_type": "code",
   "execution_count": 2,
   "id": "88489e50",
   "metadata": {
    "ExecuteTime": {
     "end_time": "2020-10-09T01:46:15.435019Z",
     "start_time": "2020-10-09T01:46:15.428225Z"
    }
   },
   "outputs": [],
   "source": [
    "rentals = pd.read_csv('NEWFINALTODAYformated_OutlierFixed.csv')"
   ]
  },
  {
   "cell_type": "code",
   "execution_count": 3,
   "id": "d8fab0ad",
   "metadata": {},
   "outputs": [
    {
     "name": "stdout",
     "output_type": "stream",
     "text": [
      "<class 'pandas.core.frame.DataFrame'>\n",
      "RangeIndex: 1690 entries, 0 to 1689\n",
      "Data columns (total 10 columns):\n",
      " #   Column         Non-Null Count  Dtype  \n",
      "---  ------         --------------  -----  \n",
      " 0   Price          1690 non-null   int64  \n",
      " 1   BedRooms       1690 non-null   float64\n",
      " 2   SQFT           1690 non-null   float64\n",
      " 3   Location       1690 non-null   object \n",
      " 4   BathRooms      1690 non-null   float64\n",
      " 5   No_Smoke       1690 non-null   float64\n",
      " 6   No_Park        1690 non-null   float64\n",
      " 7   W_D_Lndry      1690 non-null   float64\n",
      " 8   Pets           1690 non-null   float64\n",
      " 9   Property_Type  1690 non-null   float64\n",
      "dtypes: float64(8), int64(1), object(1)\n",
      "memory usage: 132.2+ KB\n"
     ]
    }
   ],
   "source": [
    "rentals.info()"
   ]
  },
  {
   "cell_type": "code",
   "execution_count": 4,
   "id": "9f0eb504",
   "metadata": {},
   "outputs": [
    {
     "name": "stdout",
     "output_type": "stream",
     "text": [
      "<class 'pandas.core.frame.DataFrame'>\n",
      "RangeIndex: 1690 entries, 0 to 1689\n",
      "Data columns (total 19 columns):\n",
      " #   Column                      Non-Null Count  Dtype  \n",
      "---  ------                      --------------  -----  \n",
      " 0   Price                       1690 non-null   int64  \n",
      " 1   BedRooms                    1690 non-null   float64\n",
      " 2   SQFT                        1690 non-null   float64\n",
      " 3   BathRooms                   1690 non-null   float64\n",
      " 4   No_Smoke                    1690 non-null   float64\n",
      " 5   No_Park                     1690 non-null   float64\n",
      " 6   W_D_Lndry                   1690 non-null   float64\n",
      " 7   Pets                        1690 non-null   float64\n",
      " 8   Property_Type               1690 non-null   float64\n",
      " 9   Location_Davis              1690 non-null   uint8  \n",
      " 10  Location_El Dorado Hills    1690 non-null   uint8  \n",
      " 11  Location_Elk Grove          1690 non-null   uint8  \n",
      " 12  Location_Fair Oaks          1690 non-null   uint8  \n",
      " 13  Location_Folsom             1690 non-null   uint8  \n",
      " 14  Location_Natomas            1690 non-null   uint8  \n",
      " 15  Location_Rancho Cordova     1690 non-null   uint8  \n",
      " 16  Location_Rocklin            1690 non-null   uint8  \n",
      " 17  Location_Roseville          1690 non-null   uint8  \n",
      " 18  Location_Sacramento         1690 non-null   uint8  \n",
      "dtypes: float64(8), int64(1), uint8(10)\n",
      "memory usage: 135.5 KB\n"
     ]
    }
   ],
   "source": [
    "rentals = pd.get_dummies(rentals, drop_first=True)\n",
    "rentals.info()"
   ]
  },
  {
   "cell_type": "code",
   "execution_count": 12,
   "id": "52e331de",
   "metadata": {},
   "outputs": [
    {
     "data": {
      "text/plain": [
       "53"
      ]
     },
     "execution_count": 12,
     "metadata": {},
     "output_type": "execute_result"
    }
   ],
   "source": [
    "len(rentals[rentals['Price'] < 1300])"
   ]
  },
  {
   "cell_type": "code",
   "execution_count": 10,
   "id": "144f0a4c",
   "metadata": {},
   "outputs": [
    {
     "data": {
      "text/plain": [
       "count    2448.000000\n",
       "mean     2102.054739\n",
       "std       503.925573\n",
       "min       700.000000\n",
       "25%      1785.000000\n",
       "50%      2055.000000\n",
       "75%      2354.250000\n",
       "max      4026.000000\n",
       "Name: Price, dtype: float64"
      ]
     },
     "execution_count": 10,
     "metadata": {},
     "output_type": "execute_result"
    }
   ],
   "source": [
    "rentals.Price.describe()"
   ]
  },
  {
   "cell_type": "code",
   "execution_count": 14,
   "id": "41118e19",
   "metadata": {},
   "outputs": [
    {
     "data": {
      "text/plain": [
       "108"
      ]
     },
     "execution_count": 14,
     "metadata": {},
     "output_type": "execute_result"
    }
   ],
   "source": [
    "len(rentals[rentals['Price'] > 3000])"
   ]
  },
  {
   "cell_type": "code",
   "execution_count": 3,
   "id": "7d7387d6",
   "metadata": {},
   "outputs": [],
   "source": [
    "rentals = rentals[rentals['Price'] < 3500]"
   ]
  },
  {
   "cell_type": "code",
   "execution_count": 4,
   "id": "4a0ba988",
   "metadata": {},
   "outputs": [],
   "source": [
    "rentals = rentals[rentals['Price'] > 900]"
   ]
  },
  {
   "cell_type": "code",
   "execution_count": null,
   "id": "23982a04",
   "metadata": {},
   "outputs": [],
   "source": []
  },
  {
   "cell_type": "code",
   "execution_count": null,
   "id": "4305c3e3",
   "metadata": {},
   "outputs": [],
   "source": []
  },
  {
   "cell_type": "code",
   "execution_count": null,
   "id": "8f985de8",
   "metadata": {},
   "outputs": [],
   "source": []
  },
  {
   "cell_type": "code",
   "execution_count": 3,
   "id": "54e99185",
   "metadata": {
    "ExecuteTime": {
     "end_time": "2020-10-09T01:46:15.473434Z",
     "start_time": "2020-10-09T01:46:15.466468Z"
    }
   },
   "outputs": [],
   "source": [
    "rentals = pd.get_dummies(rentals)"
   ]
  },
  {
   "cell_type": "code",
   "execution_count": 4,
   "id": "3b9efa7f",
   "metadata": {},
   "outputs": [
    {
     "data": {
      "text/html": [
       "<div>\n",
       "<style scoped>\n",
       "    .dataframe tbody tr th:only-of-type {\n",
       "        vertical-align: middle;\n",
       "    }\n",
       "\n",
       "    .dataframe tbody tr th {\n",
       "        vertical-align: top;\n",
       "    }\n",
       "\n",
       "    .dataframe thead th {\n",
       "        text-align: right;\n",
       "    }\n",
       "</style>\n",
       "<table border=\"1\" class=\"dataframe\">\n",
       "  <thead>\n",
       "    <tr style=\"text-align: right;\">\n",
       "      <th></th>\n",
       "      <th>Price</th>\n",
       "      <th>BedRooms</th>\n",
       "      <th>SQFT</th>\n",
       "      <th>BathRooms</th>\n",
       "      <th>No_Smoke</th>\n",
       "      <th>No_Park</th>\n",
       "      <th>W_D_Lndry</th>\n",
       "      <th>Pets</th>\n",
       "      <th>Property_Type</th>\n",
       "      <th>Log_Price</th>\n",
       "    </tr>\n",
       "  </thead>\n",
       "  <tbody>\n",
       "    <tr>\n",
       "      <th>0</th>\n",
       "      <td>1625</td>\n",
       "      <td>1.0</td>\n",
       "      <td>592.0</td>\n",
       "      <td>1.0</td>\n",
       "      <td>0.0</td>\n",
       "      <td>0.0</td>\n",
       "      <td>0.0</td>\n",
       "      <td>1.0</td>\n",
       "      <td>1.0</td>\n",
       "      <td>7.393263</td>\n",
       "    </tr>\n",
       "    <tr>\n",
       "      <th>1</th>\n",
       "      <td>1655</td>\n",
       "      <td>1.0</td>\n",
       "      <td>605.0</td>\n",
       "      <td>1.0</td>\n",
       "      <td>0.0</td>\n",
       "      <td>0.0</td>\n",
       "      <td>1.0</td>\n",
       "      <td>1.0</td>\n",
       "      <td>1.0</td>\n",
       "      <td>7.411556</td>\n",
       "    </tr>\n",
       "    <tr>\n",
       "      <th>2</th>\n",
       "      <td>1750</td>\n",
       "      <td>3.0</td>\n",
       "      <td>1850.0</td>\n",
       "      <td>2.0</td>\n",
       "      <td>1.0</td>\n",
       "      <td>0.0</td>\n",
       "      <td>1.0</td>\n",
       "      <td>1.0</td>\n",
       "      <td>2.0</td>\n",
       "      <td>7.467371</td>\n",
       "    </tr>\n",
       "    <tr>\n",
       "      <th>3</th>\n",
       "      <td>2225</td>\n",
       "      <td>2.0</td>\n",
       "      <td>874.0</td>\n",
       "      <td>1.0</td>\n",
       "      <td>1.0</td>\n",
       "      <td>0.0</td>\n",
       "      <td>1.0</td>\n",
       "      <td>1.0</td>\n",
       "      <td>1.0</td>\n",
       "      <td>7.707512</td>\n",
       "    </tr>\n",
       "    <tr>\n",
       "      <th>4</th>\n",
       "      <td>1300</td>\n",
       "      <td>1.0</td>\n",
       "      <td>575.0</td>\n",
       "      <td>1.0</td>\n",
       "      <td>1.0</td>\n",
       "      <td>0.0</td>\n",
       "      <td>0.0</td>\n",
       "      <td>0.0</td>\n",
       "      <td>1.0</td>\n",
       "      <td>7.170120</td>\n",
       "    </tr>\n",
       "  </tbody>\n",
       "</table>\n",
       "</div>"
      ],
      "text/plain": [
       "   Price  BedRooms    SQFT  BathRooms  No_Smoke  No_Park  W_D_Lndry  Pets  \\\n",
       "0   1625       1.0   592.0        1.0       0.0      0.0        0.0   1.0   \n",
       "1   1655       1.0   605.0        1.0       0.0      0.0        1.0   1.0   \n",
       "2   1750       3.0  1850.0        2.0       1.0      0.0        1.0   1.0   \n",
       "3   2225       2.0   874.0        1.0       1.0      0.0        1.0   1.0   \n",
       "4   1300       1.0   575.0        1.0       1.0      0.0        0.0   0.0   \n",
       "\n",
       "   Property_Type  Log_Price  \n",
       "0            1.0   7.393263  \n",
       "1            1.0   7.411556  \n",
       "2            2.0   7.467371  \n",
       "3            1.0   7.707512  \n",
       "4            1.0   7.170120  "
      ]
     },
     "execution_count": 4,
     "metadata": {},
     "output_type": "execute_result"
    }
   ],
   "source": [
    "rentals.head()"
   ]
  },
  {
   "cell_type": "code",
   "execution_count": 5,
   "id": "95279b1d",
   "metadata": {},
   "outputs": [
    {
     "name": "stderr",
     "output_type": "stream",
     "text": [
      "/Users/stay_one/opt/anaconda3/envs/metis/lib/python3.9/site-packages/statsmodels/base/model.py:127: ValueWarning: unknown kwargs ['data']\n",
      "  warnings.warn(msg, ValueWarning)\n"
     ]
    },
    {
     "data": {
      "text/html": [
       "<table class=\"simpletable\">\n",
       "<caption>OLS Regression Results</caption>\n",
       "<tr>\n",
       "  <th>Dep. Variable:</th>          <td>Price</td>      <th>  R-squared:         </th> <td>   0.590</td> \n",
       "</tr>\n",
       "<tr>\n",
       "  <th>Model:</th>                   <td>OLS</td>       <th>  Adj. R-squared:    </th> <td>   0.586</td> \n",
       "</tr>\n",
       "<tr>\n",
       "  <th>Method:</th>             <td>Least Squares</td>  <th>  F-statistic:       </th> <td>   133.7</td> \n",
       "</tr>\n",
       "<tr>\n",
       "  <th>Date:</th>             <td>Wed, 26 Jan 2022</td> <th>  Prob (F-statistic):</th> <td>2.00e-307</td>\n",
       "</tr>\n",
       "<tr>\n",
       "  <th>Time:</th>                 <td>13:49:44</td>     <th>  Log-Likelihood:    </th> <td> -12264.</td> \n",
       "</tr>\n",
       "<tr>\n",
       "  <th>No. Observations:</th>      <td>  1690</td>      <th>  AIC:               </th> <td>2.457e+04</td>\n",
       "</tr>\n",
       "<tr>\n",
       "  <th>Df Residuals:</th>          <td>  1671</td>      <th>  BIC:               </th> <td>2.467e+04</td>\n",
       "</tr>\n",
       "<tr>\n",
       "  <th>Df Model:</th>              <td>    18</td>      <th>                     </th>     <td> </td>    \n",
       "</tr>\n",
       "<tr>\n",
       "  <th>Covariance Type:</th>      <td>nonrobust</td>    <th>                     </th>     <td> </td>    \n",
       "</tr>\n",
       "</table>\n",
       "<table class=\"simpletable\">\n",
       "<tr>\n",
       "               <td></td>                 <th>coef</th>     <th>std err</th>      <th>t</th>      <th>P>|t|</th>  <th>[0.025</th>    <th>0.975]</th>  \n",
       "</tr>\n",
       "<tr>\n",
       "  <th>const</th>                      <td>  562.4849</td> <td>   58.435</td> <td>    9.626</td> <td> 0.000</td> <td>  447.872</td> <td>  677.098</td>\n",
       "</tr>\n",
       "<tr>\n",
       "  <th>BedRooms</th>                   <td>  -17.8973</td> <td>   19.148</td> <td>   -0.935</td> <td> 0.350</td> <td>  -55.453</td> <td>   19.659</td>\n",
       "</tr>\n",
       "<tr>\n",
       "  <th>SQFT</th>                       <td>    1.0407</td> <td>    0.038</td> <td>   27.359</td> <td> 0.000</td> <td>    0.966</td> <td>    1.115</td>\n",
       "</tr>\n",
       "<tr>\n",
       "  <th>BathRooms</th>                  <td>   34.6100</td> <td>   24.557</td> <td>    1.409</td> <td> 0.159</td> <td>  -13.556</td> <td>   82.776</td>\n",
       "</tr>\n",
       "<tr>\n",
       "  <th>No_Smoke</th>                   <td>  -31.0517</td> <td>   18.291</td> <td>   -1.698</td> <td> 0.090</td> <td>  -66.928</td> <td>    4.825</td>\n",
       "</tr>\n",
       "<tr>\n",
       "  <th>No_Park</th>                    <td> -318.3135</td> <td>  155.287</td> <td>   -2.050</td> <td> 0.041</td> <td> -622.890</td> <td>  -13.737</td>\n",
       "</tr>\n",
       "<tr>\n",
       "  <th>W_D_Lndry</th>                  <td>  323.5799</td> <td>   23.673</td> <td>   13.669</td> <td> 0.000</td> <td>  277.147</td> <td>  370.012</td>\n",
       "</tr>\n",
       "<tr>\n",
       "  <th>Pets</th>                       <td>  189.7710</td> <td>   24.589</td> <td>    7.718</td> <td> 0.000</td> <td>  141.543</td> <td>  237.999</td>\n",
       "</tr>\n",
       "<tr>\n",
       "  <th>Property_Type</th>              <td>  -42.3689</td> <td>   28.084</td> <td>   -1.509</td> <td> 0.132</td> <td>  -97.452</td> <td>   12.715</td>\n",
       "</tr>\n",
       "<tr>\n",
       "  <th>Location_Davis  </th>           <td>   45.3372</td> <td>   65.035</td> <td>    0.697</td> <td> 0.486</td> <td>  -82.221</td> <td>  172.895</td>\n",
       "</tr>\n",
       "<tr>\n",
       "  <th>Location_El Dorado Hills  </th> <td>  186.9081</td> <td>   69.445</td> <td>    2.691</td> <td> 0.007</td> <td>   50.700</td> <td>  323.116</td>\n",
       "</tr>\n",
       "<tr>\n",
       "  <th>Location_Elk Grove  </th>       <td>  165.6079</td> <td>   59.005</td> <td>    2.807</td> <td> 0.005</td> <td>   49.876</td> <td>  281.339</td>\n",
       "</tr>\n",
       "<tr>\n",
       "  <th>Location_Fair Oaks  </th>       <td>  224.4615</td> <td>   57.427</td> <td>    3.909</td> <td> 0.000</td> <td>  111.825</td> <td>  337.098</td>\n",
       "</tr>\n",
       "<tr>\n",
       "  <th>Location_Folsom  </th>          <td>  109.4895</td> <td>   52.092</td> <td>    2.102</td> <td> 0.036</td> <td>    7.317</td> <td>  211.662</td>\n",
       "</tr>\n",
       "<tr>\n",
       "  <th>Location_Natomas  </th>         <td>  180.1041</td> <td>   54.553</td> <td>    3.301</td> <td> 0.001</td> <td>   73.105</td> <td>  287.103</td>\n",
       "</tr>\n",
       "<tr>\n",
       "  <th>Location_Rancho Cordova  </th>  <td>   -5.4981</td> <td>   54.825</td> <td>   -0.100</td> <td> 0.920</td> <td> -113.031</td> <td>  102.035</td>\n",
       "</tr>\n",
       "<tr>\n",
       "  <th>Location_Rocklin</th>           <td>  135.3103</td> <td>   50.811</td> <td>    2.663</td> <td> 0.008</td> <td>   35.651</td> <td>  234.970</td>\n",
       "</tr>\n",
       "<tr>\n",
       "  <th>Location_Roseville  </th>       <td>  304.7454</td> <td>   49.295</td> <td>    6.182</td> <td> 0.000</td> <td>  208.060</td> <td>  401.431</td>\n",
       "</tr>\n",
       "<tr>\n",
       "  <th>Location_Sacramento  </th>      <td>  267.4853</td> <td>   42.108</td> <td>    6.352</td> <td> 0.000</td> <td>  184.896</td> <td>  350.075</td>\n",
       "</tr>\n",
       "</table>\n",
       "<table class=\"simpletable\">\n",
       "<tr>\n",
       "  <th>Omnibus:</th>       <td>203.307</td> <th>  Durbin-Watson:     </th> <td>   1.030</td>\n",
       "</tr>\n",
       "<tr>\n",
       "  <th>Prob(Omnibus):</th> <td> 0.000</td>  <th>  Jarque-Bera (JB):  </th> <td>1971.792</td>\n",
       "</tr>\n",
       "<tr>\n",
       "  <th>Skew:</th>          <td>-0.082</td>  <th>  Prob(JB):          </th> <td>    0.00</td>\n",
       "</tr>\n",
       "<tr>\n",
       "  <th>Kurtosis:</th>      <td> 8.289</td>  <th>  Cond. No.          </th> <td>1.93e+04</td>\n",
       "</tr>\n",
       "</table><br/><br/>Notes:<br/>[1] Standard Errors assume that the covariance matrix of the errors is correctly specified.<br/>[2] The condition number is large, 1.93e+04. This might indicate that there are<br/>strong multicollinearity or other numerical problems."
      ],
      "text/plain": [
       "<class 'statsmodels.iolib.summary.Summary'>\n",
       "\"\"\"\n",
       "                            OLS Regression Results                            \n",
       "==============================================================================\n",
       "Dep. Variable:                  Price   R-squared:                       0.590\n",
       "Model:                            OLS   Adj. R-squared:                  0.586\n",
       "Method:                 Least Squares   F-statistic:                     133.7\n",
       "Date:                Wed, 26 Jan 2022   Prob (F-statistic):          2.00e-307\n",
       "Time:                        13:49:44   Log-Likelihood:                -12264.\n",
       "No. Observations:                1690   AIC:                         2.457e+04\n",
       "Df Residuals:                    1671   BIC:                         2.467e+04\n",
       "Df Model:                          18                                         \n",
       "Covariance Type:            nonrobust                                         \n",
       "==============================================================================================\n",
       "                                 coef    std err          t      P>|t|      [0.025      0.975]\n",
       "----------------------------------------------------------------------------------------------\n",
       "const                        562.4849     58.435      9.626      0.000     447.872     677.098\n",
       "BedRooms                     -17.8973     19.148     -0.935      0.350     -55.453      19.659\n",
       "SQFT                           1.0407      0.038     27.359      0.000       0.966       1.115\n",
       "BathRooms                     34.6100     24.557      1.409      0.159     -13.556      82.776\n",
       "No_Smoke                     -31.0517     18.291     -1.698      0.090     -66.928       4.825\n",
       "No_Park                     -318.3135    155.287     -2.050      0.041    -622.890     -13.737\n",
       "W_D_Lndry                    323.5799     23.673     13.669      0.000     277.147     370.012\n",
       "Pets                         189.7710     24.589      7.718      0.000     141.543     237.999\n",
       "Property_Type                -42.3689     28.084     -1.509      0.132     -97.452      12.715\n",
       "Location_Davis                45.3372     65.035      0.697      0.486     -82.221     172.895\n",
       "Location_El Dorado Hills     186.9081     69.445      2.691      0.007      50.700     323.116\n",
       "Location_Elk Grove           165.6079     59.005      2.807      0.005      49.876     281.339\n",
       "Location_Fair Oaks           224.4615     57.427      3.909      0.000     111.825     337.098\n",
       "Location_Folsom              109.4895     52.092      2.102      0.036       7.317     211.662\n",
       "Location_Natomas             180.1041     54.553      3.301      0.001      73.105     287.103\n",
       "Location_Rancho Cordova       -5.4981     54.825     -0.100      0.920    -113.031     102.035\n",
       "Location_Rocklin             135.3103     50.811      2.663      0.008      35.651     234.970\n",
       "Location_Roseville           304.7454     49.295      6.182      0.000     208.060     401.431\n",
       "Location_Sacramento          267.4853     42.108      6.352      0.000     184.896     350.075\n",
       "==============================================================================\n",
       "Omnibus:                      203.307   Durbin-Watson:                   1.030\n",
       "Prob(Omnibus):                  0.000   Jarque-Bera (JB):             1971.792\n",
       "Skew:                          -0.082   Prob(JB):                         0.00\n",
       "Kurtosis:                       8.289   Cond. No.                     1.93e+04\n",
       "==============================================================================\n",
       "\n",
       "Notes:\n",
       "[1] Standard Errors assume that the covariance matrix of the errors is correctly specified.\n",
       "[2] The condition number is large, 1.93e+04. This might indicate that there are\n",
       "strong multicollinearity or other numerical problems.\n",
       "\"\"\""
      ]
     },
     "execution_count": 5,
     "metadata": {},
     "output_type": "execute_result"
    }
   ],
   "source": [
    "# slice data into features and target\n",
    "X_orgi = rentals.drop(columns = ['Price'])\n",
    "X_org = sm.add_constant(X_orgi)\n",
    "\n",
    "y_org = rentals.loc[:, 'Price']\n",
    "\n",
    "# fit model with target as housing price index \n",
    "log_model = sm.OLS(y_org, X_org, data=rentals) \n",
    "\n",
    "# fit our model \n",
    "results = log_model.fit()\n",
    "results.summary()"
   ]
  },
  {
   "cell_type": "code",
   "execution_count": null,
   "id": "a7fb235c",
   "metadata": {},
   "outputs": [],
   "source": []
  },
  {
   "cell_type": "markdown",
   "id": "29042fdf",
   "metadata": {},
   "source": [
    "## Train / Test Split"
   ]
  },
  {
   "cell_type": "code",
   "execution_count": 6,
   "id": "d6097d53",
   "metadata": {
    "ExecuteTime": {
     "end_time": "2020-10-09T01:46:15.481004Z",
     "start_time": "2020-10-09T01:46:15.474723Z"
    }
   },
   "outputs": [],
   "source": [
    "X, y = rentals.drop(['Price', 'No_Park', 'No_Smoke', 'Pets'],axis=1), rentals['Price']\n",
    "\n",
    "\n",
    "X, X_test, y, y_test = train_test_split(X, y, test_size=.2, random_state=9)\n",
    "\n",
    "\n",
    "X_train, X_val, y_train, y_val = train_test_split(X, y, test_size=.2, random_state=9)"
   ]
  },
  {
   "cell_type": "markdown",
   "id": "2d65ca84",
   "metadata": {},
   "source": [
    "## Polynomial 2nd Degree"
   ]
  },
  {
   "cell_type": "code",
   "execution_count": 7,
   "id": "99bac224",
   "metadata": {
    "ExecuteTime": {
     "end_time": "2020-10-09T01:46:15.491149Z",
     "start_time": "2020-10-09T01:46:15.482357Z"
    }
   },
   "outputs": [],
   "source": [
    "poly = PolynomialFeatures(degree=2, interaction_only=False)\n",
    "    \n",
    "X_poly_train = poly.fit_transform(X_train)\n",
    "X_poly_val = poly.transform(X_val)\n",
    "X_poly_test = poly.transform(X_test)"
   ]
  },
  {
   "cell_type": "markdown",
   "id": "248072f9",
   "metadata": {},
   "source": [
    "## Standard Scaller"
   ]
  },
  {
   "cell_type": "code",
   "execution_count": 8,
   "id": "7430c5f1",
   "metadata": {
    "ExecuteTime": {
     "end_time": "2020-10-09T01:46:15.496568Z",
     "start_time": "2020-10-09T01:46:15.492503Z"
    }
   },
   "outputs": [],
   "source": [
    "scaler = StandardScaler(with_mean=False)\n",
    "\n",
    "X_scale_train = scaler.fit_transform(X_poly_train)\n",
    "X_scale_val = scaler.transform(X_poly_val)\n",
    "X_scale_test = scaler.transform(X_poly_test)"
   ]
  },
  {
   "cell_type": "markdown",
   "id": "3e97c9e5",
   "metadata": {},
   "source": [
    "# Regularization"
   ]
  },
  {
   "cell_type": "markdown",
   "id": "416ca22d",
   "metadata": {},
   "source": [
    "## Lasso"
   ]
  },
  {
   "cell_type": "code",
   "execution_count": 9,
   "id": "bcfa2927",
   "metadata": {
    "ExecuteTime": {
     "end_time": "2020-10-09T01:46:25.424187Z",
     "start_time": "2020-10-09T01:46:15.497881Z"
    }
   },
   "outputs": [
    {
     "name": "stderr",
     "output_type": "stream",
     "text": [
      "/Users/stay_one/opt/anaconda3/envs/metis/lib/python3.9/site-packages/sklearn/linear_model/_coordinate_descent.py:633: ConvergenceWarning: Objective did not converge. You might want to increase the number of iterations. Duality gap: 22186.69039902091, tolerance: 19920.101906518725\n",
      "  model = cd_fast.enet_coordinate_descent_gram(\n",
      "/Users/stay_one/opt/anaconda3/envs/metis/lib/python3.9/site-packages/sklearn/linear_model/_coordinate_descent.py:633: ConvergenceWarning: Objective did not converge. You might want to increase the number of iterations. Duality gap: 23654.136619344354, tolerance: 19920.101906518725\n",
      "  model = cd_fast.enet_coordinate_descent_gram(\n",
      "/Users/stay_one/opt/anaconda3/envs/metis/lib/python3.9/site-packages/sklearn/linear_model/_coordinate_descent.py:633: ConvergenceWarning: Objective did not converge. You might want to increase the number of iterations. Duality gap: 24482.988545797765, tolerance: 19920.101906518725\n",
      "  model = cd_fast.enet_coordinate_descent_gram(\n",
      "/Users/stay_one/opt/anaconda3/envs/metis/lib/python3.9/site-packages/sklearn/linear_model/_coordinate_descent.py:633: ConvergenceWarning: Objective did not converge. You might want to increase the number of iterations. Duality gap: 24442.305403761566, tolerance: 19920.101906518725\n",
      "  model = cd_fast.enet_coordinate_descent_gram(\n",
      "/Users/stay_one/opt/anaconda3/envs/metis/lib/python3.9/site-packages/sklearn/linear_model/_coordinate_descent.py:633: ConvergenceWarning: Objective did not converge. You might want to increase the number of iterations. Duality gap: 24414.046107828617, tolerance: 19920.101906518725\n",
      "  model = cd_fast.enet_coordinate_descent_gram(\n",
      "/Users/stay_one/opt/anaconda3/envs/metis/lib/python3.9/site-packages/sklearn/linear_model/_coordinate_descent.py:633: ConvergenceWarning: Objective did not converge. You might want to increase the number of iterations. Duality gap: 24413.180825591087, tolerance: 19920.101906518725\n",
      "  model = cd_fast.enet_coordinate_descent_gram(\n",
      "/Users/stay_one/opt/anaconda3/envs/metis/lib/python3.9/site-packages/sklearn/linear_model/_coordinate_descent.py:633: ConvergenceWarning: Objective did not converge. You might want to increase the number of iterations. Duality gap: 24415.044094130397, tolerance: 19920.101906518725\n",
      "  model = cd_fast.enet_coordinate_descent_gram(\n",
      "/Users/stay_one/opt/anaconda3/envs/metis/lib/python3.9/site-packages/sklearn/linear_model/_coordinate_descent.py:633: ConvergenceWarning: Objective did not converge. You might want to increase the number of iterations. Duality gap: 24411.812221363187, tolerance: 19920.101906518725\n",
      "  model = cd_fast.enet_coordinate_descent_gram(\n",
      "/Users/stay_one/opt/anaconda3/envs/metis/lib/python3.9/site-packages/sklearn/linear_model/_coordinate_descent.py:633: ConvergenceWarning: Objective did not converge. You might want to increase the number of iterations. Duality gap: 24410.696183994412, tolerance: 19920.101906518725\n",
      "  model = cd_fast.enet_coordinate_descent_gram(\n",
      "/Users/stay_one/opt/anaconda3/envs/metis/lib/python3.9/site-packages/sklearn/linear_model/_coordinate_descent.py:633: ConvergenceWarning: Objective did not converge. You might want to increase the number of iterations. Duality gap: 24409.338975518942, tolerance: 19920.101906518725\n",
      "  model = cd_fast.enet_coordinate_descent_gram(\n",
      "/Users/stay_one/opt/anaconda3/envs/metis/lib/python3.9/site-packages/sklearn/linear_model/_coordinate_descent.py:633: ConvergenceWarning: Objective did not converge. You might want to increase the number of iterations. Duality gap: 24408.142012402415, tolerance: 19920.101906518725\n",
      "  model = cd_fast.enet_coordinate_descent_gram(\n",
      "/Users/stay_one/opt/anaconda3/envs/metis/lib/python3.9/site-packages/sklearn/linear_model/_coordinate_descent.py:633: ConvergenceWarning: Objective did not converge. You might want to increase the number of iterations. Duality gap: 24401.877746626735, tolerance: 19920.101906518725\n",
      "  model = cd_fast.enet_coordinate_descent_gram(\n",
      "/Users/stay_one/opt/anaconda3/envs/metis/lib/python3.9/site-packages/sklearn/linear_model/_coordinate_descent.py:633: ConvergenceWarning: Objective did not converge. You might want to increase the number of iterations. Duality gap: 24403.466047801077, tolerance: 19920.101906518725\n",
      "  model = cd_fast.enet_coordinate_descent_gram(\n",
      "/Users/stay_one/opt/anaconda3/envs/metis/lib/python3.9/site-packages/sklearn/linear_model/_coordinate_descent.py:633: ConvergenceWarning: Objective did not converge. You might want to increase the number of iterations. Duality gap: 24399.190307073295, tolerance: 19920.101906518725\n",
      "  model = cd_fast.enet_coordinate_descent_gram(\n",
      "/Users/stay_one/opt/anaconda3/envs/metis/lib/python3.9/site-packages/sklearn/linear_model/_coordinate_descent.py:633: ConvergenceWarning: Objective did not converge. You might want to increase the number of iterations. Duality gap: 24395.99175129831, tolerance: 19920.101906518725\n",
      "  model = cd_fast.enet_coordinate_descent_gram(\n",
      "/Users/stay_one/opt/anaconda3/envs/metis/lib/python3.9/site-packages/sklearn/linear_model/_coordinate_descent.py:633: ConvergenceWarning: Objective did not converge. You might want to increase the number of iterations. Duality gap: 24400.266534246504, tolerance: 19920.101906518725\n",
      "  model = cd_fast.enet_coordinate_descent_gram(\n",
      "/Users/stay_one/opt/anaconda3/envs/metis/lib/python3.9/site-packages/sklearn/linear_model/_coordinate_descent.py:633: ConvergenceWarning: Objective did not converge. You might want to increase the number of iterations. Duality gap: 24398.040322378278, tolerance: 19920.101906518725\n",
      "  model = cd_fast.enet_coordinate_descent_gram(\n",
      "/Users/stay_one/opt/anaconda3/envs/metis/lib/python3.9/site-packages/sklearn/linear_model/_coordinate_descent.py:633: ConvergenceWarning: Objective did not converge. You might want to increase the number of iterations. Duality gap: 24396.390246763825, tolerance: 19920.101906518725\n",
      "  model = cd_fast.enet_coordinate_descent_gram(\n",
      "/Users/stay_one/opt/anaconda3/envs/metis/lib/python3.9/site-packages/sklearn/linear_model/_coordinate_descent.py:633: ConvergenceWarning: Objective did not converge. You might want to increase the number of iterations. Duality gap: 24389.759135439992, tolerance: 19920.101906518725\n",
      "  model = cd_fast.enet_coordinate_descent_gram(\n",
      "/Users/stay_one/opt/anaconda3/envs/metis/lib/python3.9/site-packages/sklearn/linear_model/_coordinate_descent.py:633: ConvergenceWarning: Objective did not converge. You might want to increase the number of iterations. Duality gap: 24389.99401205778, tolerance: 19920.101906518725\n",
      "  model = cd_fast.enet_coordinate_descent_gram(\n",
      "/Users/stay_one/opt/anaconda3/envs/metis/lib/python3.9/site-packages/sklearn/linear_model/_coordinate_descent.py:633: ConvergenceWarning: Objective did not converge. You might want to increase the number of iterations. Duality gap: 24391.567837148905, tolerance: 19920.101906518725\n",
      "  model = cd_fast.enet_coordinate_descent_gram(\n",
      "/Users/stay_one/opt/anaconda3/envs/metis/lib/python3.9/site-packages/sklearn/linear_model/_coordinate_descent.py:633: ConvergenceWarning: Objective did not converge. You might want to increase the number of iterations. Duality gap: 24387.467505916953, tolerance: 19920.101906518725\n",
      "  model = cd_fast.enet_coordinate_descent_gram(\n",
      "/Users/stay_one/opt/anaconda3/envs/metis/lib/python3.9/site-packages/sklearn/linear_model/_coordinate_descent.py:633: ConvergenceWarning: Objective did not converge. You might want to increase the number of iterations. Duality gap: 21152.236143492162, tolerance: 19920.101906518725\n",
      "  model = cd_fast.enet_coordinate_descent_gram(\n"
     ]
    }
   ],
   "source": [
    "alphavec = 10**np.linspace(-2,1,10000)\n",
    "\n",
    "lasso_model = LassoCV(alphas=alphavec, cv=3).fit(X_scale_train, y_train)"
   ]
  },
  {
   "cell_type": "code",
   "execution_count": 10,
   "id": "e3cdee42",
   "metadata": {
    "ExecuteTime": {
     "end_time": "2020-10-09T01:46:25.432290Z",
     "start_time": "2020-10-09T01:46:25.426214Z"
    },
    "scrolled": true
   },
   "outputs": [
    {
     "data": {
      "text/plain": [
       "1.5115340740583927"
      ]
     },
     "execution_count": 10,
     "metadata": {},
     "output_type": "execute_result"
    }
   ],
   "source": [
    "las_alpha = lasso_model.alpha_\n",
    "las_alpha"
   ]
  },
  {
   "cell_type": "code",
   "execution_count": 11,
   "id": "aa7ab198",
   "metadata": {
    "ExecuteTime": {
     "end_time": "2020-10-09T01:46:25.447711Z",
     "start_time": "2020-10-09T01:46:25.434367Z"
    }
   },
   "outputs": [
    {
     "name": "stdout",
     "output_type": "stream",
     "text": [
      "Lasso Regression train R^2: 0.73063\n",
      "Lasso Regression val R^2: 0.54180\n",
      "\n",
      "Lasso Regression RMSE (train): 280.11589\n",
      "Lasso Regression RMSE (val): 355.80812\n"
     ]
    }
   ],
   "source": [
    "las = Lasso(alpha=las_alpha)\n",
    "\n",
    "las.fit(X_scale_train, y_train)\n",
    "print(f'Lasso Regression train R^2: {las.score(X_scale_train, y_train):.5f}')\n",
    "print(f'Lasso Regression val R^2: {las.score(X_scale_val, y_val):.5f}')\n",
    "print(\"\")\n",
    "print(f'Lasso Regression RMSE (train): {mean_squared_error(y_train, las.predict(X_scale_train), squared=False):.5f}')\n",
    "print(f'Lasso Regression RMSE (val): {mean_squared_error(y_val, las.predict(X_scale_val), squared=False):.5f}')"
   ]
  },
  {
   "cell_type": "code",
   "execution_count": null,
   "id": "7668cd7a",
   "metadata": {},
   "outputs": [],
   "source": []
  },
  {
   "cell_type": "markdown",
   "id": "151312ce",
   "metadata": {},
   "source": [
    "## Ridge"
   ]
  },
  {
   "cell_type": "code",
   "execution_count": null,
   "id": "f00c0756",
   "metadata": {
    "ExecuteTime": {
     "end_time": "2020-10-09T01:46:28.279332Z",
     "start_time": "2020-10-09T01:46:25.449756Z"
    }
   },
   "outputs": [
    {
     "data": {
      "text/plain": [
       "RidgeCV(alphas=array([1.00000000e-02, 1.01862899e-02, 1.03760502e-02, 1.05693455e-02,\n",
       "       1.07662418e-02, 1.09668060e-02, 1.11711065e-02, 1.13792129e-02,\n",
       "       1.15911962e-02, 1.18071285e-02, 1.20270833e-02, 1.22511358e-02,\n",
       "       1.24793621e-02, 1.27118400e-02, 1.29486487e-02, 1.31898690e-02,\n",
       "       1.34355829e-02, 1.36858742e-02, 1.39408283e-02, 1.42005318e-02,\n",
       "       1.44650734e-02, 1.47345431e-0...\n",
       "       6.54080591e+01, 6.66265452e+01, 6.78677305e+01, 6.91320378e+01,\n",
       "       7.04198979e+01, 7.17317494e+01, 7.30680395e+01, 7.44292233e+01,\n",
       "       7.58157646e+01, 7.72281357e+01, 7.86668179e+01, 8.01323013e+01,\n",
       "       8.16250851e+01, 8.31456781e+01, 8.46945981e+01, 8.62723729e+01,\n",
       "       8.78795401e+01, 8.95166472e+01, 9.11842520e+01, 9.28829225e+01,\n",
       "       9.46132376e+01, 9.63757866e+01, 9.81711702e+01, 1.00000000e+02]),\n",
       "        cv=3)"
      ]
     },
     "execution_count": 12,
     "metadata": {},
     "output_type": "execute_result"
    }
   ],
   "source": [
    "alphavec = 10**np.linspace(-2,2,500)\n",
    "\n",
    "ridge_model = RidgeCV(alphas=alphavec, cv=3)\n",
    "ridge_model.fit(X_scale_train, y_train)"
   ]
  },
  {
   "cell_type": "code",
   "execution_count": null,
   "id": "31db0fb9",
   "metadata": {
    "ExecuteTime": {
     "end_time": "2020-10-09T01:46:28.284060Z",
     "start_time": "2020-10-09T01:46:28.280946Z"
    }
   },
   "outputs": [],
   "source": [
    "rid_alpha = ridge_model.alpha_\n",
    "rid_alpha"
   ]
  },
  {
   "cell_type": "code",
   "execution_count": 14,
   "id": "6772fba3",
   "metadata": {
    "ExecuteTime": {
     "end_time": "2020-10-09T01:46:28.293748Z",
     "start_time": "2020-10-09T01:46:28.285608Z"
    }
   },
   "outputs": [
    {
     "name": "stdout",
     "output_type": "stream",
     "text": [
      "Ridge Regression train R^2: 0.66701\n",
      "Ridge Regression val R^2: 0.69254\n",
      "\n",
      "Ridge Regression RMSE (train): 253.13089\n",
      "Ridge Regression RMSE (val): 245.38171\n"
     ]
    }
   ],
   "source": [
    "rid = Ridge(alpha=rid_alpha)\n",
    "\n",
    "rid.fit(X_scale_train, y_train)\n",
    "print(f'Ridge Regression train R^2: {rid.score(X_scale_train, y_train):.5f}')\n",
    "print(f'Ridge Regression val R^2: {rid.score(X_scale_val, y_val):.5f}')\n",
    "print(\"\")\n",
    "print(f'Ridge Regression RMSE (train): {mean_squared_error(y_train, rid.predict(X_scale_train), squared=False):.5f}')\n",
    "print(f'Ridge Regression RMSE (val): {mean_squared_error(y_val, rid.predict(X_scale_val), squared=False):.5f}')"
   ]
  },
  {
   "cell_type": "markdown",
   "id": "20cfb5ce",
   "metadata": {},
   "source": [
    "## Ridge versus Lasso Evaluation"
   ]
  },
  {
   "cell_type": "markdown",
   "id": "3776d3cc",
   "metadata": {},
   "source": [
    "### Using KFolds for Cross Validation"
   ]
  },
  {
   "cell_type": "code",
   "execution_count": 29,
   "id": "f35faedd",
   "metadata": {
    "ExecuteTime": {
     "end_time": "2020-10-09T01:46:28.339710Z",
     "start_time": "2020-10-09T01:46:28.299588Z"
    }
   },
   "outputs": [
    {
     "name": "stdout",
     "output_type": "stream",
     "text": [
      "Ridge\n",
      "Ridge mean cv r^2 (TRAIN): 0.66883 +- 0.00198\n",
      "Ridge mean cv r^2 (VAL): 0.65539 +- 0.00383\n",
      "Ridge mean RMSE (TRAIN): 223.02803 +- 2.142\n",
      "Ridge mean RMSE (VAL): 223.02803 +- 2.142\n",
      "\n",
      "Lasso\n",
      "Lasso mean cv r^2 (TRAIN): 0.66431 +- 0.00161\n",
      "Lasso mean cv r^2 (VAL): 0.65363 +- 0.00602\n",
      "Lasso mean RMSE (VAL): 224.54569 +- 2.15681\n",
      "Lasso mean RMSE (VAL): 228.04391 +- 5.65100\n"
     ]
    }
   ],
   "source": [
    "kf = KFold(n_splits=3, shuffle=True, random_state = 12)\n",
    "\n",
    "cv_rid_train_r2s, cv_las_train_r2s = [], []\n",
    "cv_rid_val_r2s, cv_las_val_r2s = [], []\n",
    "\n",
    "rid_rmses_train, las_rmses_train = [], []\n",
    "rid_rmses_val, las_rmses_val = [], []\n",
    "\n",
    "X_kf, y_kf = np.array(X), np.array(y)\n",
    "\n",
    "for train_ind, val_ind in kf.split(X, y):\n",
    "    \n",
    "    X_train, y_train = X_kf[train_ind], y_kf[train_ind]\n",
    "    X_val, y_val = X_kf[val_ind], y_kf[val_ind]\n",
    "    \n",
    "    # Set up poly features\n",
    "    poly = PolynomialFeatures(degree=2, interaction_only=False)\n",
    "    X_poly_train = poly.fit_transform(X_train)\n",
    "    X_poly_val = poly.transform(X_val)\n",
    "    \n",
    "    # Scaling for Ridge & Lasso \n",
    "    scaler = StandardScaler(with_mean=False)\n",
    "    X_scale_train = scaler.fit_transform(X_poly_train)\n",
    "    X_scale_val = scaler.transform(X_poly_val)\n",
    "    \n",
    "    # Lasso\n",
    "    las = Lasso(alpha=las_alpha)\n",
    "    las.fit(X_scale_train, y_train)\n",
    "    \n",
    "    cv_las_train_r2s.append(las.score(X_scale_train, y_train))\n",
    "    cv_las_val_r2s.append(las.score(X_scale_val, y_val))\n",
    "    las_rmses_train.append(mean_squared_error(y_train, las.predict(X_scale_train), squared=False))\n",
    "    las_rmses_val.append(mean_squared_error(y_val, las.predict(X_scale_val), squared=False))\n",
    "    \n",
    "    \n",
    "    # Ridge\n",
    "    rid = Ridge(alpha=rid_alpha)\n",
    "    rid.fit(X_scale_train, y_train)\n",
    "    \n",
    "    cv_rid_train_r2s.append(rid.score(X_scale_train, y_train))\n",
    "    cv_rid_val_r2s.append(rid.score(X_scale_val, y_val))\n",
    "    rid_rmses_train.append(mean_squared_error(y_train, rid.predict(X_scale_train), squared=False))\n",
    "    rid_rmses_val.append(mean_squared_error(y_val, rid.predict(X_scale_val), squared=False))\n",
    "\n",
    "# Summary output\n",
    "\n",
    "print(\"Ridge\")\n",
    "print(f'Ridge mean cv r^2 (TRAIN): {np.mean(cv_rid_train_r2s):.5f} +- {np.std(cv_rid_train_r2s):.5f}')\n",
    "print(f'Ridge mean cv r^2 (VAL): {np.mean(cv_rid_val_r2s):.5f} +- {np.std(cv_rid_val_r2s):.5f}')\n",
    "print(f'Ridge mean RMSE (TRAIN): {np.mean(rid_rmses_train):.5f} +- {np.std(rid_rmses_train):.3f}')\n",
    "print(f'Ridge mean RMSE (VAL): {np.mean(rid_rmses_train):.5f} +- {np.std(rid_rmses_train):.3f}')\n",
    "print('')\n",
    "print(\"Lasso\")\n",
    "print(f'Lasso mean cv r^2 (TRAIN): {np.mean(cv_las_train_r2s):.5f} +- {np.std(cv_las_train_r2s):.5f}')\n",
    "print(f'Lasso mean cv r^2 (VAL): {np.mean(cv_las_val_r2s):.5f} +- {np.std(cv_las_val_r2s):.5f}')\n",
    "print(f'Lasso mean RMSE (VAL): {np.mean(las_rmses_train):.5f} +- {np.std(las_rmses_train):.5f}')\n",
    "print(f'Lasso mean RMSE (VAL): {np.mean(las_rmses_val):.5f} +- {np.std(las_rmses_val):.5f}')    "
   ]
  },
  {
   "cell_type": "markdown",
   "id": "5dc97e1d",
   "metadata": {},
   "source": [
    "###  Models Coefficients"
   ]
  },
  {
   "cell_type": "code",
   "execution_count": 15,
   "id": "de287056",
   "metadata": {
    "ExecuteTime": {
     "end_time": "2020-10-09T01:46:28.349871Z",
     "start_time": "2020-10-09T01:46:28.344026Z"
    },
    "scrolled": true
   },
   "outputs": [
    {
     "name": "stderr",
     "output_type": "stream",
     "text": [
      "/Users/stay_one/opt/anaconda3/envs/metis/lib/python3.9/site-packages/sklearn/utils/deprecation.py:87: FutureWarning: Function get_feature_names is deprecated; get_feature_names is deprecated in 1.0 and will be removed in 1.2. Please use get_feature_names_out instead.\n",
      "  warnings.warn(msg, category=FutureWarning)\n"
     ]
    }
   ],
   "source": [
    "rid_coefs = rid.coef_\n",
    "las_coefs = las.coef_\n",
    "features = rentals.columns[1:]\n",
    "\n",
    "coef_data = {'Features': poly.get_feature_names(X.columns),\n",
    "             'Ridge': rid_coefs,\n",
    "             'Lasso': las_coefs}\n",
    "\n",
    "coef_df = pd.DataFrame(coef_data)"
   ]
  },
  {
   "cell_type": "code",
   "execution_count": 17,
   "id": "2320b832",
   "metadata": {
    "ExecuteTime": {
     "end_time": "2020-10-09T01:46:28.359656Z",
     "start_time": "2020-10-09T01:46:28.351433Z"
    }
   },
   "outputs": [
    {
     "data": {
      "text/html": [
       "<div>\n",
       "<style scoped>\n",
       "    .dataframe tbody tr th:only-of-type {\n",
       "        vertical-align: middle;\n",
       "    }\n",
       "\n",
       "    .dataframe tbody tr th {\n",
       "        vertical-align: top;\n",
       "    }\n",
       "\n",
       "    .dataframe thead th {\n",
       "        text-align: right;\n",
       "    }\n",
       "</style>\n",
       "<table border=\"1\" class=\"dataframe\">\n",
       "  <thead>\n",
       "    <tr style=\"text-align: right;\">\n",
       "      <th></th>\n",
       "      <th>Features</th>\n",
       "      <th>Ridge</th>\n",
       "      <th>Lasso</th>\n",
       "    </tr>\n",
       "  </thead>\n",
       "  <tbody>\n",
       "    <tr>\n",
       "      <th>0</th>\n",
       "      <td>1</td>\n",
       "      <td>0.000000</td>\n",
       "      <td>0.000000</td>\n",
       "    </tr>\n",
       "    <tr>\n",
       "      <th>1</th>\n",
       "      <td>BedRooms</td>\n",
       "      <td>-111.402819</td>\n",
       "      <td>-144.265680</td>\n",
       "    </tr>\n",
       "    <tr>\n",
       "      <th>2</th>\n",
       "      <td>SQFT</td>\n",
       "      <td>447.934450</td>\n",
       "      <td>533.458259</td>\n",
       "    </tr>\n",
       "    <tr>\n",
       "      <th>3</th>\n",
       "      <td>BathRooms</td>\n",
       "      <td>64.409695</td>\n",
       "      <td>0.000000</td>\n",
       "    </tr>\n",
       "    <tr>\n",
       "      <th>4</th>\n",
       "      <td>W_D_Lndry</td>\n",
       "      <td>43.374579</td>\n",
       "      <td>74.390274</td>\n",
       "    </tr>\n",
       "    <tr>\n",
       "      <th>5</th>\n",
       "      <td>Property_Type</td>\n",
       "      <td>27.810484</td>\n",
       "      <td>20.574543</td>\n",
       "    </tr>\n",
       "    <tr>\n",
       "      <th>6</th>\n",
       "      <td>BedRooms^2</td>\n",
       "      <td>158.454403</td>\n",
       "      <td>281.633891</td>\n",
       "    </tr>\n",
       "    <tr>\n",
       "      <th>7</th>\n",
       "      <td>BedRooms SQFT</td>\n",
       "      <td>209.484020</td>\n",
       "      <td>221.844006</td>\n",
       "    </tr>\n",
       "    <tr>\n",
       "      <th>8</th>\n",
       "      <td>BedRooms BathRooms</td>\n",
       "      <td>-202.280459</td>\n",
       "      <td>-368.031394</td>\n",
       "    </tr>\n",
       "    <tr>\n",
       "      <th>9</th>\n",
       "      <td>BedRooms W_D_Lndry</td>\n",
       "      <td>-41.067899</td>\n",
       "      <td>-8.118140</td>\n",
       "    </tr>\n",
       "  </tbody>\n",
       "</table>\n",
       "</div>"
      ],
      "text/plain": [
       "             Features       Ridge       Lasso\n",
       "0                   1    0.000000    0.000000\n",
       "1            BedRooms -111.402819 -144.265680\n",
       "2                SQFT  447.934450  533.458259\n",
       "3           BathRooms   64.409695    0.000000\n",
       "4           W_D_Lndry   43.374579   74.390274\n",
       "5       Property_Type   27.810484   20.574543\n",
       "6          BedRooms^2  158.454403  281.633891\n",
       "7       BedRooms SQFT  209.484020  221.844006\n",
       "8  BedRooms BathRooms -202.280459 -368.031394\n",
       "9  BedRooms W_D_Lndry  -41.067899   -8.118140"
      ]
     },
     "execution_count": 17,
     "metadata": {},
     "output_type": "execute_result"
    }
   ],
   "source": [
    "coef_df.head(10)"
   ]
  },
  {
   "cell_type": "markdown",
   "id": "e27ed581",
   "metadata": {},
   "source": [
    "## Full train and test"
   ]
  },
  {
   "cell_type": "code",
   "execution_count": 16,
   "id": "419ec270",
   "metadata": {
    "ExecuteTime": {
     "end_time": "2020-10-09T01:46:28.384770Z",
     "start_time": "2020-10-09T01:46:28.371854Z"
    }
   },
   "outputs": [],
   "source": [
    "poly = PolynomialFeatures(degree=2, interaction_only=False)\n",
    "    \n",
    "X_poly_train = poly.fit_transform(X)\n",
    "X_poly_test = poly.transform(X_test)\n",
    "\n",
    "# Scaling for Ridge & Lasso \n",
    "scaler = StandardScaler(with_mean=False)\n",
    "\n",
    "X_scale_train = scaler.fit_transform(X_poly_train)\n",
    "X_scale_test = scaler.transform(X_poly_test)"
   ]
  },
  {
   "cell_type": "code",
   "execution_count": 17,
   "id": "d0083dbd",
   "metadata": {
    "ExecuteTime": {
     "end_time": "2020-10-09T01:46:28.392041Z",
     "start_time": "2020-10-09T01:46:28.386351Z"
    }
   },
   "outputs": [
    {
     "data": {
      "text/plain": [
       "Ridge(alpha=6.75552831533164)"
      ]
     },
     "execution_count": 17,
     "metadata": {},
     "output_type": "execute_result"
    }
   ],
   "source": [
    "rid = Ridge(alpha=rid_alpha)\n",
    "rid.fit(X_scale_train, y)"
   ]
  },
  {
   "cell_type": "markdown",
   "id": "6dc58994",
   "metadata": {},
   "source": [
    "## Results"
   ]
  },
  {
   "cell_type": "code",
   "execution_count": 18,
   "id": "51bfa54a",
   "metadata": {
    "ExecuteTime": {
     "end_time": "2020-10-09T01:46:28.402755Z",
     "start_time": "2020-10-09T01:46:28.393681Z"
    },
    "scrolled": true
   },
   "outputs": [
    {
     "name": "stdout",
     "output_type": "stream",
     "text": [
      "Ridge - training score:  0.6746031094742542\n",
      "Rige - test score:  0.6898606383099264\n",
      "\n",
      "RMSE - training:  250.68140099376248\n",
      "RMSE - test:  256.0903058470375\n",
      "\n",
      "MAE - training:  180.91952088286098\n",
      "MAE - test:  181.50082233865282\n"
     ]
    }
   ],
   "source": [
    "print(\"Ridge - training score: \", rid.score(X_scale_train, y))\n",
    "print(\"Rige - test score: \", rid.score(X_scale_test, y_test))\n",
    "print(\"\")\n",
    "print(\"RMSE - training: \", mean_squared_error(y, rid.predict(X_scale_train), squared=False))\n",
    "print(\"RMSE - test: \", mean_squared_error(y_test, rid.predict(X_scale_test), squared=False))\n",
    "print(\"\")\n",
    "print(\"MAE - training: \", np.mean(np.abs(rid.predict(X_scale_train) - y)))\n",
    "print(\"MAE - test: \", np.mean(np.abs(rid.predict(X_scale_test) - y_test)))"
   ]
  },
  {
   "cell_type": "code",
   "execution_count": 19,
   "id": "496eadd8",
   "metadata": {
    "ExecuteTime": {
     "end_time": "2020-10-09T01:46:28.406839Z",
     "start_time": "2020-10-09T01:46:28.404411Z"
    }
   },
   "outputs": [],
   "source": [
    "### Actual vs Predicted\n",
    "residuals = rid.predict(X_scale_test)"
   ]
  },
  {
   "cell_type": "code",
   "execution_count": 20,
   "id": "9ae6ea91",
   "metadata": {
    "ExecuteTime": {
     "end_time": "2020-10-09T01:51:10.499010Z",
     "start_time": "2020-10-09T01:51:10.235221Z"
    }
   },
   "outputs": [
    {
     "name": "stderr",
     "output_type": "stream",
     "text": [
      "/var/folders/71/xlbnyb5s341dqzxgjd0pzzqw0000gn/T/ipykernel_4543/4290510875.py:6: UserWarning: color is redundantly defined by the 'color' keyword argument and the fmt string \"m-\" (-> color='m'). The keyword argument will take precedence.\n",
      "  plb.plot(residuals, p(residuals), 'm-', color='red')\n"
     ]
    },
    {
     "data": {
      "image/png": "[encoded data removed]",
      "text/plain": [
       "<Figure size 1008x576 with 1 Axes>"
      ]
     },
     "metadata": {},
     "output_type": "display_data"
    }
   ],
   "source": [
    "plt.figure(figsize=(14, 8))\n",
    "plt.scatter(residuals, y_test, alpha=.6) \n",
    "\n",
    "z = np.polyfit(residuals, y_test, 1)\n",
    "p = np.poly1d(z)\n",
    "plb.plot(residuals, p(residuals), 'm-', color='red')\n",
    "plt.plot(np.linspace(0,4000,1000), np.linspace(0,4000,1000), color='grey')\n",
    "\n",
    "plt.xlim(0, 4000)\n",
    "plt.ylim(0, 4000)\n",
    "\n",
    "plt.suptitle('Property Rentals Model Fit', fontsize=20, fontname='Arial')\n",
    "plt.title('Linear Regression with Ridge Regularization', fontsize=16, fontname='Arial')\n",
    "plt.xlabel('Predicted Values in $', fontsize=16, fontname='Arial')\n",
    "plt.ylabel('Actual Values in $', fontsize=16, fontname='Arial');\n",
    "\n",
    "#plt.savefig('Line_Fit.png')"
   ]
  },
  {
   "cell_type": "code",
   "execution_count": 21,
   "id": "680f2586",
   "metadata": {
    "ExecuteTime": {
     "end_time": "2020-10-09T01:46:28.624135Z",
     "start_time": "2020-10-09T01:46:28.621430Z"
    }
   },
   "outputs": [],
   "source": [
    "### Residuals Plot\n",
    "residual2 = (y_test - residuals)"
   ]
  },
  {
   "cell_type": "code",
   "execution_count": 22,
   "id": "12043256",
   "metadata": {
    "ExecuteTime": {
     "end_time": "2020-10-09T01:51:26.359356Z",
     "start_time": "2020-10-09T01:51:26.098964Z"
    }
   },
   "outputs": [
    {
     "data": {
      "image/png": "[encoded data removed]",
      "text/plain": [
       "<Figure size 1008x576 with 1 Axes>"
      ]
     },
     "metadata": {},
     "output_type": "display_data"
    }
   ],
   "source": [
    "plt.figure(figsize=(14, 8))\n",
    "plt.scatter(residuals, residual2, alpha=.7)   \n",
    "\n",
    "plt.axhline(0, linestyle='--', color='grey')\n",
    "plt.suptitle('Residuals', fontsize=20, fontname='Arial')\n",
    "plt.title('Linear Regression with Ridge Regularization', fontsize=16, fontname='Arial')\n",
    "plt.ylim(-1500, 1500)\n",
    "plt.xlabel('Predicted Values in $', fontsize=16, fontname='Arial')\n",
    "plt.ylabel('Residual Values in $', fontsize=16, fontname='Arial');\n",
    "\n",
    "#plt.savefig('Residuals_Ridge.png')"
   ]
  },
  {
   "cell_type": "markdown",
   "id": "21617137",
   "metadata": {},
   "source": [
    "# Appendix"
   ]
  },
  {
   "cell_type": "markdown",
   "id": "c658ca5b",
   "metadata": {},
   "source": [
    "## Distribution of Rental Prices in Sample"
   ]
  },
  {
   "cell_type": "code",
   "execution_count": 23,
   "id": "a86bb7a8",
   "metadata": {
    "ExecuteTime": {
     "end_time": "2020-10-09T01:46:29.013384Z",
     "start_time": "2020-10-09T01:46:28.790241Z"
    }
   },
   "outputs": [
    {
     "data": {
      "image/png": "[encoded data removed]",
      "text/plain": [
       "<Figure size 1008x576 with 1 Axes>"
      ]
     },
     "metadata": {},
     "output_type": "display_data"
    }
   ],
   "source": [
    "plt.figure(figsize=(14, 8))\n",
    "ax_actual = sns.histplot(rentals.Price, kde=True, bins=(list(range(500, 6001, 500))))\n",
    "plt.axvline(rentals.Price.mean(), linestyle='--', color='grey')\n",
    "\n",
    "ax_predict = sns.histplot(residuals, kde=True)\n",
    "\n",
    "ax_actual.set_title(' Rental Prices Distribution', fontname='Arial', fontsize=18)\n",
    "ax_actual.set_xlabel('Amount in $', fontname='Arial', fontsize=16)\n",
    "ax_actual.set_ylabel('Count', fontname='Arial', fontsize=16)\n",
    "ax_actual.set_yticks([0, 25, 50, 75, 100, 125, 150, 175, 200, 225])\n",
    "ax_actual.set_xticks(list(range(500, 6001, 500)))\n",
    "ax_actual.set_xticklabels(list(range(500, 6001, 500)));\n",
    "\n",
    "#plt.savefig('Rental_Price_Distribution.png');"
   ]
  },
  {
   "cell_type": "code",
   "execution_count": null,
   "id": "b5c5b6a9",
   "metadata": {},
   "outputs": [],
   "source": []
  }
 ],
 "metadata": {
  "kernelspec": {
   "display_name": "Python [conda env:metis] *",
   "language": "python",
   "name": "conda-env-metis-py"
  },
  "language_info": {
   "codemirror_mode": {
    "name": "ipython",
    "version": 3
   },
   "file_extension": ".py",
   "mimetype": "text/x-python",
   "name": "python",
   "nbconvert_exporter": "python",
   "pygments_lexer": "ipython3",
   "version": "3.9.7"
  }
 },
 "nbformat": 4,
 "nbformat_minor": 5
}
