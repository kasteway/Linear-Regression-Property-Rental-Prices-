{
 "cells": [
  {
   "cell_type": "code",
   "execution_count": 1,
   "id": "215640ba",
   "metadata": {
    "ExecuteTime": {
     "end_time": "2020-10-09T01:46:15.426439Z",
     "start_time": "2020-10-09T01:46:14.277661Z"
    }
   },
   "outputs": [],
   "source": [
    "\n",
    "import pandas as pd\n",
    "import numpy as np\n",
    "import seaborn as sns\n",
    "import matplotlib.pyplot as plt\n",
    "import matplotlib.pylab as plb \n",
    "%matplotlib inline\n",
    "\n",
    "import statsmodels.api as sm\n",
    "from sklearn.model_selection import train_test_split, KFold\n",
    "from sklearn.linear_model import LinearRegression, Lasso, LassoCV, Ridge, RidgeCV\n",
    "from sklearn.preprocessing import StandardScaler, PolynomialFeatures\n",
    "from sklearn.metrics import r2_score, mean_squared_error\n",
    "\n",
    "sns.set(context='notebook', style='whitegrid', font_scale=1.2)"
   ]
  },
  {
   "cell_type": "code",
   "execution_count": 2,
   "id": "88489e50",
   "metadata": {
    "ExecuteTime": {
     "end_time": "2020-10-09T01:46:15.435019Z",
     "start_time": "2020-10-09T01:46:15.428225Z"
    }
   },
   "outputs": [],
   "source": [
    "rentals = pd.read_csv('formated_OutlierFixed.csv')"
   ]
  },
  {
   "cell_type": "code",
   "execution_count": 5,
   "id": "6b8564b6",
   "metadata": {},
   "outputs": [
    {
     "name": "stdout",
     "output_type": "stream",
     "text": [
      "<class 'pandas.core.frame.DataFrame'>\n",
      "Int64Index: 2267 entries, 0 to 2447\n",
      "Data columns (total 10 columns):\n",
      " #   Column         Non-Null Count  Dtype  \n",
      "---  ------         --------------  -----  \n",
      " 0   Price          2267 non-null   int64  \n",
      " 1   BedRooms       2267 non-null   float64\n",
      " 2   SQFT           2267 non-null   float64\n",
      " 3   BathRooms      2267 non-null   float64\n",
      " 4   No_Smoke       2267 non-null   float64\n",
      " 5   No_Park        2267 non-null   float64\n",
      " 6   W_D_Lndry      2267 non-null   float64\n",
      " 7   Pets           2267 non-null   float64\n",
      " 8   Property_Type  2267 non-null   float64\n",
      " 9   Log_Price      2267 non-null   float64\n",
      "dtypes: float64(9), int64(1)\n",
      "memory usage: 194.8 KB\n"
     ]
    }
   ],
   "source": [
    "rentals.info()"
   ]
  },
  {
   "cell_type": "code",
   "execution_count": 4,
   "id": "3b9efa7f",
   "metadata": {},
   "outputs": [
    {
     "data": {
      "text/html": [
       "<div>\n",
       "<style scoped>\n",
       "    .dataframe tbody tr th:only-of-type {\n",
       "        vertical-align: middle;\n",
       "    }\n",
       "\n",
       "    .dataframe tbody tr th {\n",
       "        vertical-align: top;\n",
       "    }\n",
       "\n",
       "    .dataframe thead th {\n",
       "        text-align: right;\n",
       "    }\n",
       "</style>\n",
       "<table border=\"1\" class=\"dataframe\">\n",
       "  <thead>\n",
       "    <tr style=\"text-align: right;\">\n",
       "      <th></th>\n",
       "      <th>Price</th>\n",
       "      <th>BedRooms</th>\n",
       "      <th>SQFT</th>\n",
       "      <th>BathRooms</th>\n",
       "      <th>No_Smoke</th>\n",
       "      <th>No_Park</th>\n",
       "      <th>W_D_Lndry</th>\n",
       "      <th>Pets</th>\n",
       "      <th>Property_Type</th>\n",
       "      <th>Log_Price</th>\n",
       "    </tr>\n",
       "  </thead>\n",
       "  <tbody>\n",
       "    <tr>\n",
       "      <th>0</th>\n",
       "      <td>1625</td>\n",
       "      <td>1.0</td>\n",
       "      <td>592.0</td>\n",
       "      <td>1.0</td>\n",
       "      <td>0.0</td>\n",
       "      <td>0.0</td>\n",
       "      <td>0.0</td>\n",
       "      <td>1.0</td>\n",
       "      <td>1.0</td>\n",
       "      <td>7.393263</td>\n",
       "    </tr>\n",
       "    <tr>\n",
       "      <th>1</th>\n",
       "      <td>1655</td>\n",
       "      <td>1.0</td>\n",
       "      <td>605.0</td>\n",
       "      <td>1.0</td>\n",
       "      <td>0.0</td>\n",
       "      <td>0.0</td>\n",
       "      <td>1.0</td>\n",
       "      <td>1.0</td>\n",
       "      <td>1.0</td>\n",
       "      <td>7.411556</td>\n",
       "    </tr>\n",
       "    <tr>\n",
       "      <th>2</th>\n",
       "      <td>1750</td>\n",
       "      <td>3.0</td>\n",
       "      <td>1850.0</td>\n",
       "      <td>2.0</td>\n",
       "      <td>1.0</td>\n",
       "      <td>0.0</td>\n",
       "      <td>1.0</td>\n",
       "      <td>1.0</td>\n",
       "      <td>2.0</td>\n",
       "      <td>7.467371</td>\n",
       "    </tr>\n",
       "    <tr>\n",
       "      <th>3</th>\n",
       "      <td>2225</td>\n",
       "      <td>2.0</td>\n",
       "      <td>874.0</td>\n",
       "      <td>1.0</td>\n",
       "      <td>1.0</td>\n",
       "      <td>0.0</td>\n",
       "      <td>1.0</td>\n",
       "      <td>1.0</td>\n",
       "      <td>1.0</td>\n",
       "      <td>7.707512</td>\n",
       "    </tr>\n",
       "    <tr>\n",
       "      <th>4</th>\n",
       "      <td>1300</td>\n",
       "      <td>1.0</td>\n",
       "      <td>575.0</td>\n",
       "      <td>1.0</td>\n",
       "      <td>1.0</td>\n",
       "      <td>0.0</td>\n",
       "      <td>0.0</td>\n",
       "      <td>0.0</td>\n",
       "      <td>1.0</td>\n",
       "      <td>7.170120</td>\n",
       "    </tr>\n",
       "  </tbody>\n",
       "</table>\n",
       "</div>"
      ],
      "text/plain": [
       "   Price  BedRooms    SQFT  BathRooms  No_Smoke  No_Park  W_D_Lndry  Pets  \\\n",
       "0   1625       1.0   592.0        1.0       0.0      0.0        0.0   1.0   \n",
       "1   1655       1.0   605.0        1.0       0.0      0.0        1.0   1.0   \n",
       "2   1750       3.0  1850.0        2.0       1.0      0.0        1.0   1.0   \n",
       "3   2225       2.0   874.0        1.0       1.0      0.0        1.0   1.0   \n",
       "4   1300       1.0   575.0        1.0       1.0      0.0        0.0   0.0   \n",
       "\n",
       "   Property_Type  Log_Price  \n",
       "0            1.0   7.393263  \n",
       "1            1.0   7.411556  \n",
       "2            2.0   7.467371  \n",
       "3            1.0   7.707512  \n",
       "4            1.0   7.170120  "
      ]
     },
     "execution_count": 4,
     "metadata": {},
     "output_type": "execute_result"
    }
   ],
   "source": [
    "rentals.head()"
   ]
  },
  {
   "cell_type": "code",
   "execution_count": null,
   "id": "a7fb235c",
   "metadata": {},
   "outputs": [],
   "source": []
  },
  {
   "cell_type": "markdown",
   "id": "29042fdf",
   "metadata": {},
   "source": [
    "## Train / Test Split"
   ]
  },
  {
   "cell_type": "code",
   "execution_count": 20,
   "id": "d6097d53",
   "metadata": {
    "ExecuteTime": {
     "end_time": "2020-10-09T01:46:15.481004Z",
     "start_time": "2020-10-09T01:46:15.474723Z"
    }
   },
   "outputs": [],
   "source": [
    "X, y = rentals.drop(['Price', 'Log_Price', 'No_Park', 'No_Smoke', 'Pets'],axis=1), rentals['Price']\n",
    "\n",
    "\n",
    "X, X_test, y, y_test = train_test_split(X, y, test_size=.2, random_state=9)\n",
    "\n",
    "\n",
    "X_train, X_val, y_train, y_val = train_test_split(X, y, test_size=.2, random_state=9)"
   ]
  },
  {
   "cell_type": "markdown",
   "id": "2d65ca84",
   "metadata": {},
   "source": [
    "## Polynomial 2nd Degree"
   ]
  },
  {
   "cell_type": "code",
   "execution_count": 21,
   "id": "99bac224",
   "metadata": {
    "ExecuteTime": {
     "end_time": "2020-10-09T01:46:15.491149Z",
     "start_time": "2020-10-09T01:46:15.482357Z"
    }
   },
   "outputs": [],
   "source": [
    "poly = PolynomialFeatures(degree=2, interaction_only=False)\n",
    "    \n",
    "X_poly_train = poly.fit_transform(X_train)\n",
    "X_poly_val = poly.transform(X_val)\n",
    "X_poly_test = poly.transform(X_test)"
   ]
  },
  {
   "cell_type": "markdown",
   "id": "248072f9",
   "metadata": {},
   "source": [
    "## Standard Scaller"
   ]
  },
  {
   "cell_type": "code",
   "execution_count": 22,
   "id": "7430c5f1",
   "metadata": {
    "ExecuteTime": {
     "end_time": "2020-10-09T01:46:15.496568Z",
     "start_time": "2020-10-09T01:46:15.492503Z"
    }
   },
   "outputs": [],
   "source": [
    "scaler = StandardScaler(with_mean=False)\n",
    "\n",
    "X_scale_train = scaler.fit_transform(X_poly_train)\n",
    "X_scale_val = scaler.transform(X_poly_val)\n",
    "X_scale_test = scaler.transform(X_poly_test)"
   ]
  },
  {
   "cell_type": "markdown",
   "id": "3e97c9e5",
   "metadata": {},
   "source": [
    "# Regularization"
   ]
  },
  {
   "cell_type": "markdown",
   "id": "416ca22d",
   "metadata": {},
   "source": [
    "## Lasso"
   ]
  },
  {
   "cell_type": "code",
   "execution_count": 23,
   "id": "bcfa2927",
   "metadata": {
    "ExecuteTime": {
     "end_time": "2020-10-09T01:46:25.424187Z",
     "start_time": "2020-10-09T01:46:15.497881Z"
    }
   },
   "outputs": [],
   "source": [
    "alphavec = 10**np.linspace(-2,1,10000)\n",
    "\n",
    "lasso_model = LassoCV(alphas=alphavec, cv=3).fit(X_scale_train, y_train)"
   ]
  },
  {
   "cell_type": "code",
   "execution_count": 24,
   "id": "e3cdee42",
   "metadata": {
    "ExecuteTime": {
     "end_time": "2020-10-09T01:46:25.432290Z",
     "start_time": "2020-10-09T01:46:25.426214Z"
    },
    "scrolled": true
   },
   "outputs": [
    {
     "data": {
      "text/plain": [
       "1.3505574138463134"
      ]
     },
     "execution_count": 24,
     "metadata": {},
     "output_type": "execute_result"
    }
   ],
   "source": [
    "las_alpha = lasso_model.alpha_\n",
    "las_alpha"
   ]
  },
  {
   "cell_type": "code",
   "execution_count": 25,
   "id": "aa7ab198",
   "metadata": {
    "ExecuteTime": {
     "end_time": "2020-10-09T01:46:25.447711Z",
     "start_time": "2020-10-09T01:46:25.434367Z"
    }
   },
   "outputs": [
    {
     "name": "stdout",
     "output_type": "stream",
     "text": [
      "Lasso Regression train R^2: 0.65768\n",
      "Lasso Regression val R^2: 0.67389\n",
      "\n",
      "Lasso Regression RMSE (train): 223.28748\n",
      "Lasso Regression RMSE (val): 234.43083\n"
     ]
    }
   ],
   "source": [
    "las = Lasso(alpha=las_alpha)\n",
    "\n",
    "las.fit(X_scale_train, y_train)\n",
    "print(f'Lasso Regression train R^2: {las.score(X_scale_train, y_train):.5f}')\n",
    "print(f'Lasso Regression val R^2: {las.score(X_scale_val, y_val):.5f}')\n",
    "print(\"\")\n",
    "print(f'Lasso Regression RMSE (train): {mean_squared_error(y_train, las.predict(X_scale_train), squared=False):.5f}')\n",
    "print(f'Lasso Regression RMSE (val): {mean_squared_error(y_val, las.predict(X_scale_val), squared=False):.5f}')"
   ]
  },
  {
   "cell_type": "code",
   "execution_count": null,
   "id": "b7696302",
   "metadata": {},
   "outputs": [],
   "source": []
  },
  {
   "cell_type": "markdown",
   "id": "151312ce",
   "metadata": {},
   "source": [
    "## Ridge"
   ]
  },
  {
   "cell_type": "code",
   "execution_count": 26,
   "id": "f00c0756",
   "metadata": {
    "ExecuteTime": {
     "end_time": "2020-10-09T01:46:28.279332Z",
     "start_time": "2020-10-09T01:46:25.449756Z"
    }
   },
   "outputs": [
    {
     "data": {
      "text/plain": [
       "RidgeCV(alphas=array([1.00000000e-02, 1.01862899e-02, 1.03760502e-02, 1.05693455e-02,\n",
       "       1.07662418e-02, 1.09668060e-02, 1.11711065e-02, 1.13792129e-02,\n",
       "       1.15911962e-02, 1.18071285e-02, 1.20270833e-02, 1.22511358e-02,\n",
       "       1.24793621e-02, 1.27118400e-02, 1.29486487e-02, 1.31898690e-02,\n",
       "       1.34355829e-02, 1.36858742e-02, 1.39408283e-02, 1.42005318e-02,\n",
       "       1.44650734e-02, 1.47345431e-0...\n",
       "       6.54080591e+01, 6.66265452e+01, 6.78677305e+01, 6.91320378e+01,\n",
       "       7.04198979e+01, 7.17317494e+01, 7.30680395e+01, 7.44292233e+01,\n",
       "       7.58157646e+01, 7.72281357e+01, 7.86668179e+01, 8.01323013e+01,\n",
       "       8.16250851e+01, 8.31456781e+01, 8.46945981e+01, 8.62723729e+01,\n",
       "       8.78795401e+01, 8.95166472e+01, 9.11842520e+01, 9.28829225e+01,\n",
       "       9.46132376e+01, 9.63757866e+01, 9.81711702e+01, 1.00000000e+02]),\n",
       "        cv=3)"
      ]
     },
     "execution_count": 26,
     "metadata": {},
     "output_type": "execute_result"
    }
   ],
   "source": [
    "alphavec = 10**np.linspace(-2,2,500)\n",
    "\n",
    "ridge_model = RidgeCV(alphas=alphavec, cv=3)\n",
    "ridge_model.fit(X_scale_train, y_train)"
   ]
  },
  {
   "cell_type": "code",
   "execution_count": 27,
   "id": "31db0fb9",
   "metadata": {
    "ExecuteTime": {
     "end_time": "2020-10-09T01:46:28.284060Z",
     "start_time": "2020-10-09T01:46:28.280946Z"
    }
   },
   "outputs": [
    {
     "data": {
      "text/plain": [
       "3.742366290721981"
      ]
     },
     "execution_count": 27,
     "metadata": {},
     "output_type": "execute_result"
    }
   ],
   "source": [
    "rid_alpha = ridge_model.alpha_\n",
    "rid_alpha"
   ]
  },
  {
   "cell_type": "code",
   "execution_count": 28,
   "id": "6772fba3",
   "metadata": {
    "ExecuteTime": {
     "end_time": "2020-10-09T01:46:28.293748Z",
     "start_time": "2020-10-09T01:46:28.285608Z"
    }
   },
   "outputs": [
    {
     "name": "stdout",
     "output_type": "stream",
     "text": [
      "Ridge Regression train R^2: 0.66335\n",
      "Ridge Regression val R^2: 0.67527\n",
      "\n",
      "Ridge Regression RMSE (train): 221.43012\n",
      "Ridge Regression RMSE (val): 233.93384\n"
     ]
    }
   ],
   "source": [
    "rid = Ridge(alpha=rid_alpha)\n",
    "\n",
    "rid.fit(X_scale_train, y_train)\n",
    "print(f'Ridge Regression train R^2: {rid.score(X_scale_train, y_train):.5f}')\n",
    "print(f'Ridge Regression val R^2: {rid.score(X_scale_val, y_val):.5f}')\n",
    "print(\"\")\n",
    "print(f'Ridge Regression RMSE (train): {mean_squared_error(y_train, rid.predict(X_scale_train), squared=False):.5f}')\n",
    "print(f'Ridge Regression RMSE (val): {mean_squared_error(y_val, rid.predict(X_scale_val), squared=False):.5f}')"
   ]
  },
  {
   "cell_type": "markdown",
   "id": "5dc97e1d",
   "metadata": {},
   "source": [
    "###  Models Coefficients"
   ]
  },
  {
   "cell_type": "code",
   "execution_count": 30,
   "id": "de287056",
   "metadata": {
    "ExecuteTime": {
     "end_time": "2020-10-09T01:46:28.349871Z",
     "start_time": "2020-10-09T01:46:28.344026Z"
    },
    "scrolled": true
   },
   "outputs": [
    {
     "name": "stderr",
     "output_type": "stream",
     "text": [
      "/Users/stay_one/opt/anaconda3/envs/metis/lib/python3.9/site-packages/sklearn/utils/deprecation.py:87: FutureWarning: Function get_feature_names is deprecated; get_feature_names is deprecated in 1.0 and will be removed in 1.2. Please use get_feature_names_out instead.\n",
      "  warnings.warn(msg, category=FutureWarning)\n"
     ]
    }
   ],
   "source": [
    "rid_coefs = rid.coef_\n",
    "las_coefs = las.coef_\n",
    "features = rentals.columns[1:]\n",
    "\n",
    "coef_data = {'Features': poly.get_feature_names(X.columns),\n",
    "             'Ridge': rid_coefs,\n",
    "             'Lasso': las_coefs}\n",
    "\n",
    "coef_df = pd.DataFrame(coef_data)"
   ]
  },
  {
   "cell_type": "code",
   "execution_count": 17,
   "id": "2320b832",
   "metadata": {
    "ExecuteTime": {
     "end_time": "2020-10-09T01:46:28.359656Z",
     "start_time": "2020-10-09T01:46:28.351433Z"
    }
   },
   "outputs": [
    {
     "data": {
      "text/html": [
       "<div>\n",
       "<style scoped>\n",
       "    .dataframe tbody tr th:only-of-type {\n",
       "        vertical-align: middle;\n",
       "    }\n",
       "\n",
       "    .dataframe tbody tr th {\n",
       "        vertical-align: top;\n",
       "    }\n",
       "\n",
       "    .dataframe thead th {\n",
       "        text-align: right;\n",
       "    }\n",
       "</style>\n",
       "<table border=\"1\" class=\"dataframe\">\n",
       "  <thead>\n",
       "    <tr style=\"text-align: right;\">\n",
       "      <th></th>\n",
       "      <th>Features</th>\n",
       "      <th>Ridge</th>\n",
       "      <th>Lasso</th>\n",
       "    </tr>\n",
       "  </thead>\n",
       "  <tbody>\n",
       "    <tr>\n",
       "      <th>0</th>\n",
       "      <td>1</td>\n",
       "      <td>0.000000</td>\n",
       "      <td>0.000000</td>\n",
       "    </tr>\n",
       "    <tr>\n",
       "      <th>1</th>\n",
       "      <td>BedRooms</td>\n",
       "      <td>-111.402819</td>\n",
       "      <td>-144.265680</td>\n",
       "    </tr>\n",
       "    <tr>\n",
       "      <th>2</th>\n",
       "      <td>SQFT</td>\n",
       "      <td>447.934450</td>\n",
       "      <td>533.458259</td>\n",
       "    </tr>\n",
       "    <tr>\n",
       "      <th>3</th>\n",
       "      <td>BathRooms</td>\n",
       "      <td>64.409695</td>\n",
       "      <td>0.000000</td>\n",
       "    </tr>\n",
       "    <tr>\n",
       "      <th>4</th>\n",
       "      <td>W_D_Lndry</td>\n",
       "      <td>43.374579</td>\n",
       "      <td>74.390274</td>\n",
       "    </tr>\n",
       "    <tr>\n",
       "      <th>5</th>\n",
       "      <td>Property_Type</td>\n",
       "      <td>27.810484</td>\n",
       "      <td>20.574543</td>\n",
       "    </tr>\n",
       "    <tr>\n",
       "      <th>6</th>\n",
       "      <td>BedRooms^2</td>\n",
       "      <td>158.454403</td>\n",
       "      <td>281.633891</td>\n",
       "    </tr>\n",
       "    <tr>\n",
       "      <th>7</th>\n",
       "      <td>BedRooms SQFT</td>\n",
       "      <td>209.484020</td>\n",
       "      <td>221.844006</td>\n",
       "    </tr>\n",
       "    <tr>\n",
       "      <th>8</th>\n",
       "      <td>BedRooms BathRooms</td>\n",
       "      <td>-202.280459</td>\n",
       "      <td>-368.031394</td>\n",
       "    </tr>\n",
       "    <tr>\n",
       "      <th>9</th>\n",
       "      <td>BedRooms W_D_Lndry</td>\n",
       "      <td>-41.067899</td>\n",
       "      <td>-8.118140</td>\n",
       "    </tr>\n",
       "  </tbody>\n",
       "</table>\n",
       "</div>"
      ],
      "text/plain": [
       "             Features       Ridge       Lasso\n",
       "0                   1    0.000000    0.000000\n",
       "1            BedRooms -111.402819 -144.265680\n",
       "2                SQFT  447.934450  533.458259\n",
       "3           BathRooms   64.409695    0.000000\n",
       "4           W_D_Lndry   43.374579   74.390274\n",
       "5       Property_Type   27.810484   20.574543\n",
       "6          BedRooms^2  158.454403  281.633891\n",
       "7       BedRooms SQFT  209.484020  221.844006\n",
       "8  BedRooms BathRooms -202.280459 -368.031394\n",
       "9  BedRooms W_D_Lndry  -41.067899   -8.118140"
      ]
     },
     "execution_count": 17,
     "metadata": {},
     "output_type": "execute_result"
    }
   ],
   "source": [
    "coef_df.head(10)"
   ]
  },
  {
   "cell_type": "markdown",
   "id": "e27ed581",
   "metadata": {},
   "source": [
    "## Final Selected Model"
   ]
  },
  {
   "cell_type": "code",
   "execution_count": 31,
   "id": "419ec270",
   "metadata": {
    "ExecuteTime": {
     "end_time": "2020-10-09T01:46:28.384770Z",
     "start_time": "2020-10-09T01:46:28.371854Z"
    }
   },
   "outputs": [],
   "source": [
    "poly = PolynomialFeatures(degree=2, interaction_only=False)\n",
    "    \n",
    "X_poly_train = poly.fit_transform(X)\n",
    "X_poly_test = poly.transform(X_test)\n",
    "\n",
    "# Scaling for Ridge & Lasso \n",
    "scaler = StandardScaler(with_mean=False)\n",
    "\n",
    "X_scale_train = scaler.fit_transform(X_poly_train)\n",
    "X_scale_test = scaler.transform(X_poly_test)"
   ]
  },
  {
   "cell_type": "code",
   "execution_count": 32,
   "id": "d0083dbd",
   "metadata": {
    "ExecuteTime": {
     "end_time": "2020-10-09T01:46:28.392041Z",
     "start_time": "2020-10-09T01:46:28.386351Z"
    }
   },
   "outputs": [
    {
     "data": {
      "text/plain": [
       "Ridge(alpha=3.742366290721981)"
      ]
     },
     "execution_count": 32,
     "metadata": {},
     "output_type": "execute_result"
    }
   ],
   "source": [
    "rid = Ridge(alpha=rid_alpha)\n",
    "rid.fit(X_scale_train, y)"
   ]
  },
  {
   "cell_type": "markdown",
   "id": "6dc58994",
   "metadata": {},
   "source": [
    "## Results"
   ]
  },
  {
   "cell_type": "code",
   "execution_count": 33,
   "id": "51bfa54a",
   "metadata": {
    "ExecuteTime": {
     "end_time": "2020-10-09T01:46:28.402755Z",
     "start_time": "2020-10-09T01:46:28.393681Z"
    },
    "scrolled": true
   },
   "outputs": [
    {
     "name": "stdout",
     "output_type": "stream",
     "text": [
      "Ridge - training score:  0.6673194862559015\n",
      "Rige - test score:  0.6482803117197973\n",
      "\n",
      "RMSE - training:  223.5574301342635\n",
      "RMSE - test:  214.13874494959893\n",
      "\n",
      "MAE - training:  164.15081177121326\n",
      "MAE - test:  158.3692150096682\n"
     ]
    }
   ],
   "source": [
    "print(\"Ridge - training score: \", rid.score(X_scale_train, y))\n",
    "print(\"Rige - test score: \", rid.score(X_scale_test, y_test))\n",
    "print(\"\")\n",
    "print(\"RMSE - training: \", mean_squared_error(y, rid.predict(X_scale_train), squared=False))\n",
    "print(\"RMSE - test: \", mean_squared_error(y_test, rid.predict(X_scale_test), squared=False))\n",
    "print(\"\")\n",
    "print(\"MAE - training: \", np.mean(np.abs(rid.predict(X_scale_train) - y)))\n",
    "print(\"MAE - test: \", np.mean(np.abs(rid.predict(X_scale_test) - y_test)))"
   ]
  },
  {
   "cell_type": "code",
   "execution_count": null,
   "id": "4dccd4ad",
   "metadata": {},
   "outputs": [],
   "source": []
  },
  {
   "cell_type": "code",
   "execution_count": 38,
   "id": "680f2586",
   "metadata": {
    "ExecuteTime": {
     "end_time": "2020-10-09T01:46:28.624135Z",
     "start_time": "2020-10-09T01:46:28.621430Z"
    }
   },
   "outputs": [],
   "source": [
    "### Residuals \n",
    "residual2 = (y_test - residuals)"
   ]
  },
  {
   "cell_type": "code",
   "execution_count": 46,
   "id": "12043256",
   "metadata": {
    "ExecuteTime": {
     "end_time": "2020-10-09T01:51:26.359356Z",
     "start_time": "2020-10-09T01:51:26.098964Z"
    }
   },
   "outputs": [
    {
     "data": {
      "image/png": "[encoded data removed]",
      "text/plain": [
       "<Figure size 1008x576 with 1 Axes>"
      ]
     },
     "metadata": {},
     "output_type": "display_data"
    }
   ],
   "source": [
    "plt.figure(figsize=(14, 8))\n",
    "plt.scatter(residuals, residual2, alpha=.7)   \n",
    "\n",
    "plt.axhline(0, linestyle='--', color='grey')\n",
    "plt.suptitle('Residuals', fontsize=20, fontname='Arial')\n",
    "plt.title('Linear Regression with Ridge Regularization', fontsize=16, fontname='Arial')\n",
    "plt.ylim(-1500, 1500)\n",
    "plt.xlabel('Predicted Values in $', fontsize=16, fontname='Arial')\n",
    "plt.ylabel('Residual Values in $', fontsize=16, fontname='Arial');\n",
    "\n",
    "plt.savefig('Residuals_Ridge.png')"
   ]
  },
  {
   "cell_type": "code",
   "execution_count": null,
   "id": "54dda7fe",
   "metadata": {},
   "outputs": [],
   "source": []
  },
  {
   "cell_type": "code",
   "execution_count": 34,
   "id": "496eadd8",
   "metadata": {
    "ExecuteTime": {
     "end_time": "2020-10-09T01:46:28.406839Z",
     "start_time": "2020-10-09T01:46:28.404411Z"
    }
   },
   "outputs": [],
   "source": [
    "### Actual vs Predicted\n",
    "residuals = rid.predict(X_scale_test)"
   ]
  },
  {
   "cell_type": "code",
   "execution_count": 47,
   "id": "9ae6ea91",
   "metadata": {
    "ExecuteTime": {
     "end_time": "2020-10-09T01:51:10.499010Z",
     "start_time": "2020-10-09T01:51:10.235221Z"
    }
   },
   "outputs": [
    {
     "name": "stderr",
     "output_type": "stream",
     "text": [
      "/var/folders/71/xlbnyb5s341dqzxgjd0pzzqw0000gn/T/ipykernel_4316/4290510875.py:6: UserWarning: color is redundantly defined by the 'color' keyword argument and the fmt string \"m-\" (-> color='m'). The keyword argument will take precedence.\n",
      "  plb.plot(residuals, p(residuals), 'm-', color='red')\n"
     ]
    },
    {
     "data": {
      "image/png": "[encoded data removed]",
      "text/plain": [
       "<Figure size 1008x576 with 1 Axes>"
      ]
     },
     "metadata": {},
     "output_type": "display_data"
    }
   ],
   "source": [
    "plt.figure(figsize=(14, 8))\n",
    "plt.scatter(residuals, y_test, alpha=.6) \n",
    "\n",
    "z = np.polyfit(residuals, y_test, 1)\n",
    "p = np.poly1d(z)\n",
    "plb.plot(residuals, p(residuals), 'm-', color='red')\n",
    "plt.plot(np.linspace(0,4000,1000), np.linspace(0,4000,1000), color='grey')\n",
    "\n",
    "plt.xlim(0, 4000)\n",
    "plt.ylim(0, 4000)\n",
    "\n",
    "plt.suptitle('Property Rentals Model Fit', fontsize=20, fontname='Arial')\n",
    "plt.title('Linear Regression with Ridge Regularization', fontsize=16, fontname='Arial')\n",
    "plt.xlabel('Predicted Values in $', fontsize=16, fontname='Arial')\n",
    "plt.ylabel('Actual Values in $', fontsize=16, fontname='Arial');\n",
    "\n",
    "plt.savefig('Line_Fit.png')"
   ]
  },
  {
   "cell_type": "code",
   "execution_count": null,
   "id": "b5c5b6a9",
   "metadata": {},
   "outputs": [],
   "source": []
  }
 ],
 "metadata": {
  "kernelspec": {
   "display_name": "Python [conda env:metis] *",
   "language": "python",
   "name": "conda-env-metis-py"
  },
  "language_info": {
   "codemirror_mode": {
    "name": "ipython",
    "version": 3
   },
   "file_extension": ".py",
   "mimetype": "text/x-python",
   "name": "python",
   "nbconvert_exporter": "python",
   "pygments_lexer": "ipython3",
   "version": "3.9.7"
  }
 },
 "nbformat": 4,
 "nbformat_minor": 5
}
