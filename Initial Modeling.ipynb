{
 "cells": [
  {
   "cell_type": "code",
   "execution_count": 14,
   "id": "ed167d27",
   "metadata": {},
   "outputs": [],
   "source": [
    "\n",
    "import pandas as pd\n",
    "import numpy as np\n",
    "import seaborn as sns\n",
    "import matplotlib.pyplot as plt\n",
    "import matplotlib.pylab as plb \n",
    "%matplotlib inline\n",
    "\n",
    "import statsmodels.api as sm\n",
    "import statsmodels.formula.api as smf\n",
    "import patsy\n",
    "\n",
    "import scipy.stats as stats\n",
    "from sklearn.model_selection import train_test_split, KFold\n",
    "from sklearn.linear_model import LinearRegression, Lasso, LassoCV, Ridge, RidgeCV\n",
    "from sklearn.preprocessing import StandardScaler, PolynomialFeatures\n",
    "from sklearn.metrics import r2_score, mean_squared_error\n",
    "from statsmodels.stats.outliers_influence import variance_inflation_factor\n",
    "\n",
    "sns.set(context='notebook', style='whitegrid', font_scale=1.2)"
   ]
  },
  {
   "cell_type": "code",
   "execution_count": 15,
   "id": "f43f50b6",
   "metadata": {},
   "outputs": [
    {
     "name": "stdout",
     "output_type": "stream",
     "text": [
      "<class 'pandas.core.frame.DataFrame'>\n",
      "RangeIndex: 2448 entries, 0 to 2447\n",
      "Data columns (total 10 columns):\n",
      " #   Column         Non-Null Count  Dtype  \n",
      "---  ------         --------------  -----  \n",
      " 0   Price          2448 non-null   int64  \n",
      " 1   BedRooms       2448 non-null   float64\n",
      " 2   SQFT           2448 non-null   float64\n",
      " 3   BathRooms      2448 non-null   float64\n",
      " 4   No_Smoke       2448 non-null   float64\n",
      " 5   No_Park        2448 non-null   float64\n",
      " 6   W_D_Lndry      2448 non-null   float64\n",
      " 7   Pets           2448 non-null   float64\n",
      " 8   Property_Type  2448 non-null   float64\n",
      " 9   Log_Price      2448 non-null   float64\n",
      "dtypes: float64(9), int64(1)\n",
      "memory usage: 191.4 KB\n"
     ]
    }
   ],
   "source": [
    "rentals = pd.read_csv('formated_OutlierFixed.csv')\n",
    "rentals.info()"
   ]
  },
  {
   "cell_type": "code",
   "execution_count": 16,
   "id": "a0089d8f",
   "metadata": {},
   "outputs": [
    {
     "name": "stderr",
     "output_type": "stream",
     "text": [
      "/Users/stay_one/opt/anaconda3/envs/metis/lib/python3.9/site-packages/statsmodels/base/model.py:127: ValueWarning: unknown kwargs ['data']\n",
      "  warnings.warn(msg, ValueWarning)\n"
     ]
    },
    {
     "data": {
      "text/html": [
       "<table class=\"simpletable\">\n",
       "<caption>OLS Regression Results</caption>\n",
       "<tr>\n",
       "  <th>Dep. Variable:</th>          <td>Price</td>      <th>  R-squared:         </th> <td>   0.582</td> \n",
       "</tr>\n",
       "<tr>\n",
       "  <th>Model:</th>                   <td>OLS</td>       <th>  Adj. R-squared:    </th> <td>   0.581</td> \n",
       "</tr>\n",
       "<tr>\n",
       "  <th>Method:</th>             <td>Least Squares</td>  <th>  F-statistic:       </th> <td>   425.4</td> \n",
       "</tr>\n",
       "<tr>\n",
       "  <th>Date:</th>             <td>Mon, 24 Jan 2022</td> <th>  Prob (F-statistic):</th>  <td>  0.00</td>  \n",
       "</tr>\n",
       "<tr>\n",
       "  <th>Time:</th>                 <td>12:17:32</td>     <th>  Log-Likelihood:    </th> <td> -17636.</td> \n",
       "</tr>\n",
       "<tr>\n",
       "  <th>No. Observations:</th>      <td>  2448</td>      <th>  AIC:               </th> <td>3.529e+04</td>\n",
       "</tr>\n",
       "<tr>\n",
       "  <th>Df Residuals:</th>          <td>  2439</td>      <th>  BIC:               </th> <td>3.534e+04</td>\n",
       "</tr>\n",
       "<tr>\n",
       "  <th>Df Model:</th>              <td>     8</td>      <th>                     </th>     <td> </td>    \n",
       "</tr>\n",
       "<tr>\n",
       "  <th>Covariance Type:</th>      <td>nonrobust</td>    <th>                     </th>     <td> </td>    \n",
       "</tr>\n",
       "</table>\n",
       "<table class=\"simpletable\">\n",
       "<tr>\n",
       "        <td></td>           <th>coef</th>     <th>std err</th>      <th>t</th>      <th>P>|t|</th>  <th>[0.025</th>    <th>0.975]</th>  \n",
       "</tr>\n",
       "<tr>\n",
       "  <th>const</th>         <td>  877.2499</td> <td>   31.592</td> <td>   27.768</td> <td> 0.000</td> <td>  815.300</td> <td>  939.199</td>\n",
       "</tr>\n",
       "<tr>\n",
       "  <th>BedRooms</th>      <td>   20.0333</td> <td>   15.522</td> <td>    1.291</td> <td> 0.197</td> <td>  -10.405</td> <td>   50.471</td>\n",
       "</tr>\n",
       "<tr>\n",
       "  <th>SQFT</th>          <td>    1.0192</td> <td>    0.030</td> <td>   33.997</td> <td> 0.000</td> <td>    0.960</td> <td>    1.078</td>\n",
       "</tr>\n",
       "<tr>\n",
       "  <th>BathRooms</th>     <td>   19.6725</td> <td>   18.799</td> <td>    1.046</td> <td> 0.295</td> <td>  -17.191</td> <td>   56.536</td>\n",
       "</tr>\n",
       "<tr>\n",
       "  <th>No_Smoke</th>      <td>  -10.6360</td> <td>   14.517</td> <td>   -0.733</td> <td> 0.464</td> <td>  -39.102</td> <td>   17.830</td>\n",
       "</tr>\n",
       "<tr>\n",
       "  <th>No_Park</th>       <td> -240.1422</td> <td>  146.290</td> <td>   -1.642</td> <td> 0.101</td> <td> -527.008</td> <td>   46.723</td>\n",
       "</tr>\n",
       "<tr>\n",
       "  <th>W_D_Lndry</th>     <td>  296.9253</td> <td>   16.279</td> <td>   18.240</td> <td> 0.000</td> <td>  265.003</td> <td>  328.847</td>\n",
       "</tr>\n",
       "<tr>\n",
       "  <th>Pets</th>          <td>  120.0385</td> <td>   15.228</td> <td>    7.883</td> <td> 0.000</td> <td>   90.177</td> <td>  149.900</td>\n",
       "</tr>\n",
       "<tr>\n",
       "  <th>Property_Type</th> <td> -105.3038</td> <td>   24.706</td> <td>   -4.262</td> <td> 0.000</td> <td> -153.751</td> <td>  -56.857</td>\n",
       "</tr>\n",
       "</table>\n",
       "<table class=\"simpletable\">\n",
       "<tr>\n",
       "  <th>Omnibus:</th>       <td>496.485</td> <th>  Durbin-Watson:     </th> <td>   1.653</td>\n",
       "</tr>\n",
       "<tr>\n",
       "  <th>Prob(Omnibus):</th> <td> 0.000</td>  <th>  Jarque-Bera (JB):  </th> <td>8903.910</td>\n",
       "</tr>\n",
       "<tr>\n",
       "  <th>Skew:</th>          <td>-0.454</td>  <th>  Prob(JB):          </th> <td>    0.00</td>\n",
       "</tr>\n",
       "<tr>\n",
       "  <th>Kurtosis:</th>      <td>12.299</td>  <th>  Cond. No.          </th> <td>2.24e+04</td>\n",
       "</tr>\n",
       "</table><br/><br/>Notes:<br/>[1] Standard Errors assume that the covariance matrix of the errors is correctly specified.<br/>[2] The condition number is large, 2.24e+04. This might indicate that there are<br/>strong multicollinearity or other numerical problems."
      ],
      "text/plain": [
       "<class 'statsmodels.iolib.summary.Summary'>\n",
       "\"\"\"\n",
       "                            OLS Regression Results                            \n",
       "==============================================================================\n",
       "Dep. Variable:                  Price   R-squared:                       0.582\n",
       "Model:                            OLS   Adj. R-squared:                  0.581\n",
       "Method:                 Least Squares   F-statistic:                     425.4\n",
       "Date:                Mon, 24 Jan 2022   Prob (F-statistic):               0.00\n",
       "Time:                        12:17:32   Log-Likelihood:                -17636.\n",
       "No. Observations:                2448   AIC:                         3.529e+04\n",
       "Df Residuals:                    2439   BIC:                         3.534e+04\n",
       "Df Model:                           8                                         \n",
       "Covariance Type:            nonrobust                                         \n",
       "=================================================================================\n",
       "                    coef    std err          t      P>|t|      [0.025      0.975]\n",
       "---------------------------------------------------------------------------------\n",
       "const           877.2499     31.592     27.768      0.000     815.300     939.199\n",
       "BedRooms         20.0333     15.522      1.291      0.197     -10.405      50.471\n",
       "SQFT              1.0192      0.030     33.997      0.000       0.960       1.078\n",
       "BathRooms        19.6725     18.799      1.046      0.295     -17.191      56.536\n",
       "No_Smoke        -10.6360     14.517     -0.733      0.464     -39.102      17.830\n",
       "No_Park        -240.1422    146.290     -1.642      0.101    -527.008      46.723\n",
       "W_D_Lndry       296.9253     16.279     18.240      0.000     265.003     328.847\n",
       "Pets            120.0385     15.228      7.883      0.000      90.177     149.900\n",
       "Property_Type  -105.3038     24.706     -4.262      0.000    -153.751     -56.857\n",
       "==============================================================================\n",
       "Omnibus:                      496.485   Durbin-Watson:                   1.653\n",
       "Prob(Omnibus):                  0.000   Jarque-Bera (JB):             8903.910\n",
       "Skew:                          -0.454   Prob(JB):                         0.00\n",
       "Kurtosis:                      12.299   Cond. No.                     2.24e+04\n",
       "==============================================================================\n",
       "\n",
       "Notes:\n",
       "[1] Standard Errors assume that the covariance matrix of the errors is correctly specified.\n",
       "[2] The condition number is large, 2.24e+04. This might indicate that there are\n",
       "strong multicollinearity or other numerical problems.\n",
       "\"\"\""
      ]
     },
     "execution_count": 16,
     "metadata": {},
     "output_type": "execute_result"
    }
   ],
   "source": [
    "# slice data into features and target\n",
    "X_orgi = rentals.drop(columns = ['Price','Log_Price'])\n",
    "X_org = sm.add_constant(X_orgi)\n",
    "\n",
    "y_org = rentals.loc[:, 'Price']\n",
    "\n",
    "# fit model with target as housing price index \n",
    "log_model = sm.OLS(y_org, X_org, data=rentals) \n",
    "\n",
    "# fit our model \n",
    "results = log_model.fit()\n",
    "results.summary()"
   ]
  },
  {
   "cell_type": "code",
   "execution_count": 17,
   "id": "98c2d651",
   "metadata": {},
   "outputs": [
    {
     "name": "stderr",
     "output_type": "stream",
     "text": [
      "*c* argument looks like a single numeric RGB or RGBA sequence, which should be avoided as value-mapping will have precedence in case its length matches with *x* & *y*.  Please use the *color* keyword-argument or provide a 2D array with a single row if you intend to specify the same RGB or RGBA value for all points.\n"
     ]
    },
    {
     "data": {
      "image/png": "[encoded data removed]",
      "text/plain": [
       "<Figure size 720x432 with 1 Axes>"
      ]
     },
     "metadata": {},
     "output_type": "display_data"
    }
   ],
   "source": [
    "# Plot your predicted values on the x-axis, and your residuals on the y-axis\n",
    "rentals['predict'] = results.predict(X_org)\n",
    "rentals['resid'] = rentals.Price - rentals.predict\n",
    "with sns.axes_style('white'):\n",
    "    plot=rentals.plot(kind='scatter',\n",
    "                  x='predict',y='resid',alpha=0.2,figsize=(10,6))"
   ]
  },
  {
   "cell_type": "code",
   "execution_count": 18,
   "id": "d982012b",
   "metadata": {},
   "outputs": [
    {
     "data": {
      "image/png": "[encoded data removed]",
      "text/plain": [
       "<Figure size 432x288 with 1 Axes>"
      ]
     },
     "metadata": {},
     "output_type": "display_data"
    }
   ],
   "source": [
    "# diagnose/inspect residual normality using qqplot:\n",
    "stats.probplot(rentals['resid'], dist=\"norm\", plot=plt)\n",
    "plt.title(\"Normal Q-Q plot\")\n",
    "plt.show()"
   ]
  },
  {
   "cell_type": "code",
   "execution_count": 19,
   "id": "3ffeadf1",
   "metadata": {
    "scrolled": true
   },
   "outputs": [
    {
     "data": {
      "text/plain": [
       "<AxesSubplot:>"
      ]
     },
     "execution_count": 19,
     "metadata": {},
     "output_type": "execute_result"
    },
    {
     "data": {
      "image/png": "[encoded data removed]",
      "text/plain": [
       "<Figure size 432x288 with 1 Axes>"
      ]
     },
     "metadata": {},
     "output_type": "display_data"
    }
   ],
   "source": [
    "rentals.Price.hist()"
   ]
  },
  {
   "cell_type": "code",
   "execution_count": 20,
   "id": "6df86041",
   "metadata": {},
   "outputs": [
    {
     "data": {
      "text/plain": [
       "<AxesSubplot:>"
      ]
     },
     "execution_count": 20,
     "metadata": {},
     "output_type": "execute_result"
    },
    {
     "data": {
      "image/png": "[encoded data removed]",
      "text/plain": [
       "<Figure size 432x288 with 1 Axes>"
      ]
     },
     "metadata": {},
     "output_type": "display_data"
    }
   ],
   "source": [
    "rentals.SQFT.hist()"
   ]
  },
  {
   "cell_type": "code",
   "execution_count": null,
   "id": "ae78c3cb",
   "metadata": {},
   "outputs": [],
   "source": [
    "# try log transformation\n",
    "np.log(rentals.SQFT).hist();\n"
   ]
  },
  {
   "cell_type": "code",
   "execution_count": null,
   "id": "8a42bd76",
   "metadata": {},
   "outputs": [],
   "source": [
    "rentals['Log_SQFT'] = np.log(rentals.SQFT)\n",
    "rentals.info()"
   ]
  },
  {
   "cell_type": "code",
   "execution_count": null,
   "id": "71187575",
   "metadata": {},
   "outputs": [],
   "source": []
  },
  {
   "cell_type": "markdown",
   "id": "87e7d114",
   "metadata": {},
   "source": [
    "## Outliers & Leverage"
   ]
  },
  {
   "cell_type": "code",
   "execution_count": 21,
   "id": "4ad597bf",
   "metadata": {},
   "outputs": [],
   "source": [
    "influence = results.get_influence()\n",
    "influence_frame = influence.summary_frame().reset_index()"
   ]
  },
  {
   "cell_type": "code",
   "execution_count": 22,
   "id": "b793f8ea",
   "metadata": {},
   "outputs": [
    {
     "data": {
      "text/html": [
       "<div>\n",
       "<style scoped>\n",
       "    .dataframe tbody tr th:only-of-type {\n",
       "        vertical-align: middle;\n",
       "    }\n",
       "\n",
       "    .dataframe tbody tr th {\n",
       "        vertical-align: top;\n",
       "    }\n",
       "\n",
       "    .dataframe thead th {\n",
       "        text-align: right;\n",
       "    }\n",
       "</style>\n",
       "<table border=\"1\" class=\"dataframe\">\n",
       "  <thead>\n",
       "    <tr style=\"text-align: right;\">\n",
       "      <th></th>\n",
       "      <th>index</th>\n",
       "      <th>dfb_const</th>\n",
       "      <th>dfb_BedRooms</th>\n",
       "      <th>dfb_SQFT</th>\n",
       "      <th>dfb_BathRooms</th>\n",
       "      <th>dfb_No_Smoke</th>\n",
       "      <th>dfb_No_Park</th>\n",
       "      <th>dfb_W_D_Lndry</th>\n",
       "      <th>dfb_Pets</th>\n",
       "      <th>dfb_Property_Type</th>\n",
       "      <th>cooks_d</th>\n",
       "      <th>standard_resid</th>\n",
       "      <th>hat_diag</th>\n",
       "      <th>dffits_internal</th>\n",
       "      <th>student_resid</th>\n",
       "      <th>dffits</th>\n",
       "    </tr>\n",
       "  </thead>\n",
       "  <tbody>\n",
       "    <tr>\n",
       "      <th>0</th>\n",
       "      <td>0</td>\n",
       "      <td>0.005616</td>\n",
       "      <td>-0.003542</td>\n",
       "      <td>-0.001215</td>\n",
       "      <td>0.002106</td>\n",
       "      <td>-0.004091</td>\n",
       "      <td>-0.001045</td>\n",
       "      <td>-0.010512</td>\n",
       "      <td>0.005070</td>\n",
       "      <td>0.001088</td>\n",
       "      <td>0.000023</td>\n",
       "      <td>0.276175</td>\n",
       "      <td>0.002712</td>\n",
       "      <td>0.014401</td>\n",
       "      <td>0.276122</td>\n",
       "      <td>0.014399</td>\n",
       "    </tr>\n",
       "    <tr>\n",
       "      <th>1</th>\n",
       "      <td>1</td>\n",
       "      <td>-0.001793</td>\n",
       "      <td>0.002249</td>\n",
       "      <td>0.004574</td>\n",
       "      <td>0.002149</td>\n",
       "      <td>0.008213</td>\n",
       "      <td>0.001010</td>\n",
       "      <td>-0.006881</td>\n",
       "      <td>-0.007366</td>\n",
       "      <td>-0.005737</td>\n",
       "      <td>0.000053</td>\n",
       "      <td>-0.583659</td>\n",
       "      <td>0.001388</td>\n",
       "      <td>-0.021757</td>\n",
       "      <td>-0.583580</td>\n",
       "      <td>-0.021754</td>\n",
       "    </tr>\n",
       "    <tr>\n",
       "      <th>2</th>\n",
       "      <td>2</td>\n",
       "      <td>0.227661</td>\n",
       "      <td>0.024772</td>\n",
       "      <td>-0.128434</td>\n",
       "      <td>0.049474</td>\n",
       "      <td>-0.067391</td>\n",
       "      <td>-0.001247</td>\n",
       "      <td>-0.067112</td>\n",
       "      <td>-0.078274</td>\n",
       "      <td>-0.159216</td>\n",
       "      <td>0.011027</td>\n",
       "      <td>-4.022520</td>\n",
       "      <td>0.006096</td>\n",
       "      <td>-0.315028</td>\n",
       "      <td>-4.035102</td>\n",
       "      <td>-0.316013</td>\n",
       "    </tr>\n",
       "    <tr>\n",
       "      <th>3</th>\n",
       "      <td>3</td>\n",
       "      <td>0.002430</td>\n",
       "      <td>0.009177</td>\n",
       "      <td>-0.001130</td>\n",
       "      <td>-0.011038</td>\n",
       "      <td>0.007751</td>\n",
       "      <td>-0.000057</td>\n",
       "      <td>0.005674</td>\n",
       "      <td>0.001072</td>\n",
       "      <td>-0.002542</td>\n",
       "      <td>0.000029</td>\n",
       "      <td>0.295447</td>\n",
       "      <td>0.002933</td>\n",
       "      <td>0.016024</td>\n",
       "      <td>0.295392</td>\n",
       "      <td>0.016021</td>\n",
       "    </tr>\n",
       "    <tr>\n",
       "      <th>4</th>\n",
       "      <td>4</td>\n",
       "      <td>-0.010614</td>\n",
       "      <td>0.002803</td>\n",
       "      <td>0.004860</td>\n",
       "      <td>-0.002191</td>\n",
       "      <td>-0.010689</td>\n",
       "      <td>0.000406</td>\n",
       "      <td>0.008467</td>\n",
       "      <td>0.010273</td>\n",
       "      <td>-0.000606</td>\n",
       "      <td>0.000038</td>\n",
       "      <td>-0.267546</td>\n",
       "      <td>0.004795</td>\n",
       "      <td>-0.018572</td>\n",
       "      <td>-0.267495</td>\n",
       "      <td>-0.018568</td>\n",
       "    </tr>\n",
       "  </tbody>\n",
       "</table>\n",
       "</div>"
      ],
      "text/plain": [
       "   index  dfb_const  dfb_BedRooms  dfb_SQFT  dfb_BathRooms  dfb_No_Smoke  \\\n",
       "0      0   0.005616     -0.003542 -0.001215       0.002106     -0.004091   \n",
       "1      1  -0.001793      0.002249  0.004574       0.002149      0.008213   \n",
       "2      2   0.227661      0.024772 -0.128434       0.049474     -0.067391   \n",
       "3      3   0.002430      0.009177 -0.001130      -0.011038      0.007751   \n",
       "4      4  -0.010614      0.002803  0.004860      -0.002191     -0.010689   \n",
       "\n",
       "   dfb_No_Park  dfb_W_D_Lndry  dfb_Pets  dfb_Property_Type   cooks_d  \\\n",
       "0    -0.001045      -0.010512  0.005070           0.001088  0.000023   \n",
       "1     0.001010      -0.006881 -0.007366          -0.005737  0.000053   \n",
       "2    -0.001247      -0.067112 -0.078274          -0.159216  0.011027   \n",
       "3    -0.000057       0.005674  0.001072          -0.002542  0.000029   \n",
       "4     0.000406       0.008467  0.010273          -0.000606  0.000038   \n",
       "\n",
       "   standard_resid  hat_diag  dffits_internal  student_resid    dffits  \n",
       "0        0.276175  0.002712         0.014401       0.276122  0.014399  \n",
       "1       -0.583659  0.001388        -0.021757      -0.583580 -0.021754  \n",
       "2       -4.022520  0.006096        -0.315028      -4.035102 -0.316013  \n",
       "3        0.295447  0.002933         0.016024       0.295392  0.016021  \n",
       "4       -0.267546  0.004795        -0.018572      -0.267495 -0.018568  "
      ]
     },
     "execution_count": 22,
     "metadata": {},
     "output_type": "execute_result"
    }
   ],
   "source": [
    "influence_frame.head()"
   ]
  },
  {
   "cell_type": "code",
   "execution_count": 23,
   "id": "d2fed810",
   "metadata": {},
   "outputs": [],
   "source": [
    "##Worry if Higher than 1 checking outliers and leverage points"
   ]
  },
  {
   "cell_type": "code",
   "execution_count": 24,
   "id": "12d49132",
   "metadata": {},
   "outputs": [
    {
     "data": {
      "text/plain": [
       "349     0.203394\n",
       "348     0.203394\n",
       "512     0.056542\n",
       "2166    0.039151\n",
       "739     0.032588\n",
       "Name: cooks_d, dtype: float64"
      ]
     },
     "execution_count": 24,
     "metadata": {},
     "output_type": "execute_result"
    }
   ],
   "source": [
    "influence_frame.cooks_d.sort_values(ascending=False).head()"
   ]
  },
  {
   "cell_type": "code",
   "execution_count": 25,
   "id": "f3864be6",
   "metadata": {},
   "outputs": [
    {
     "data": {
      "text/plain": [
       "348"
      ]
     },
     "execution_count": 25,
     "metadata": {},
     "output_type": "execute_result"
    }
   ],
   "source": [
    "influence_frame['cooks_d'].idxmax()"
   ]
  },
  {
   "cell_type": "markdown",
   "id": "2a96a15a",
   "metadata": {},
   "source": [
    "## VIF Collinerity"
   ]
  },
  {
   "cell_type": "code",
   "execution_count": 26,
   "id": "a094aeae",
   "metadata": {},
   "outputs": [
    {
     "data": {
      "text/html": [
       "<div>\n",
       "<style scoped>\n",
       "    .dataframe tbody tr th:only-of-type {\n",
       "        vertical-align: middle;\n",
       "    }\n",
       "\n",
       "    .dataframe tbody tr th {\n",
       "        vertical-align: top;\n",
       "    }\n",
       "\n",
       "    .dataframe thead th {\n",
       "        text-align: right;\n",
       "    }\n",
       "</style>\n",
       "<table border=\"1\" class=\"dataframe\">\n",
       "  <thead>\n",
       "    <tr style=\"text-align: right;\">\n",
       "      <th></th>\n",
       "      <th>variables</th>\n",
       "      <th>vif</th>\n",
       "    </tr>\n",
       "  </thead>\n",
       "  <tbody>\n",
       "    <tr>\n",
       "      <th>0</th>\n",
       "      <td>const</td>\n",
       "      <td>22.969079</td>\n",
       "    </tr>\n",
       "    <tr>\n",
       "      <th>1</th>\n",
       "      <td>BedRooms</td>\n",
       "      <td>3.539127</td>\n",
       "    </tr>\n",
       "    <tr>\n",
       "      <th>2</th>\n",
       "      <td>SQFT</td>\n",
       "      <td>2.550333</td>\n",
       "    </tr>\n",
       "    <tr>\n",
       "      <th>3</th>\n",
       "      <td>BathRooms</td>\n",
       "      <td>2.753118</td>\n",
       "    </tr>\n",
       "    <tr>\n",
       "      <th>4</th>\n",
       "      <td>No_Smoke</td>\n",
       "      <td>1.082964</td>\n",
       "    </tr>\n",
       "    <tr>\n",
       "      <th>5</th>\n",
       "      <td>No_Park</td>\n",
       "      <td>1.003910</td>\n",
       "    </tr>\n",
       "    <tr>\n",
       "      <th>6</th>\n",
       "      <td>W_D_Lndry</td>\n",
       "      <td>1.109170</td>\n",
       "    </tr>\n",
       "    <tr>\n",
       "      <th>7</th>\n",
       "      <td>Pets</td>\n",
       "      <td>1.123016</td>\n",
       "    </tr>\n",
       "    <tr>\n",
       "      <th>8</th>\n",
       "      <td>Property_Type</td>\n",
       "      <td>1.429461</td>\n",
       "    </tr>\n",
       "  </tbody>\n",
       "</table>\n",
       "</div>"
      ],
      "text/plain": [
       "       variables        vif\n",
       "0          const  22.969079\n",
       "1       BedRooms   3.539127\n",
       "2           SQFT   2.550333\n",
       "3      BathRooms   2.753118\n",
       "4       No_Smoke   1.082964\n",
       "5        No_Park   1.003910\n",
       "6      W_D_Lndry   1.109170\n",
       "7           Pets   1.123016\n",
       "8  Property_Type   1.429461"
      ]
     },
     "execution_count": 26,
     "metadata": {},
     "output_type": "execute_result"
    }
   ],
   "source": [
    "#from statsmodels.stats.outliers_influence import variance_inflation_factor\n",
    "\n",
    "vif = pd.DataFrame()\n",
    "vif['variables'] = X_org.columns\n",
    "vif['vif'] =[variance_inflation_factor(X_org.values, i) for i in range(X_org.shape[1])]\n",
    "vif\n"
   ]
  },
  {
   "cell_type": "code",
   "execution_count": null,
   "id": "fd427bd0",
   "metadata": {},
   "outputs": [],
   "source": []
  },
  {
   "cell_type": "code",
   "execution_count": 3,
   "id": "8a19aca4",
   "metadata": {},
   "outputs": [
    {
     "data": {
      "text/plain": [
       "Index(['Price', 'BedRooms', 'SQFT', 'BathRooms', 'No_Smoke', 'No_Park',\n",
       "       'W_D_Lndry', 'Pets', 'Property_Type', 'Log_Price'],\n",
       "      dtype='object')"
      ]
     },
     "execution_count": 3,
     "metadata": {},
     "output_type": "execute_result"
    }
   ],
   "source": [
    "rentals.columns"
   ]
  },
  {
   "cell_type": "code",
   "execution_count": 4,
   "id": "1b830cca",
   "metadata": {},
   "outputs": [],
   "source": [
    "# Split into train, val, and test\n",
    "X, X_test, y, y_test = train_test_split(rentals[[ 'BedRooms', 'SQFT', 'BathRooms', 'No_Smoke', 'No_Park',\n",
    "       'W_D_Lndry', 'Pets', 'Property_Type']], \n",
    "                                        rentals['Price'], test_size=0.2, random_state=9)\n",
    "\n",
    "X_train, X_val, y_train, y_val = train_test_split(X, y, test_size=0.25, random_state=9)\n"
   ]
  },
  {
   "cell_type": "markdown",
   "id": "cf5dcdbb",
   "metadata": {},
   "source": [
    "## Simple linear regression on training set and Val"
   ]
  },
  {
   "cell_type": "code",
   "execution_count": 5,
   "id": "6d1d43a6",
   "metadata": {},
   "outputs": [
    {
     "data": {
      "text/plain": [
       "0.5520213777515619"
      ]
     },
     "execution_count": 5,
     "metadata": {},
     "output_type": "execute_result"
    }
   ],
   "source": [
    "# Fit a simple linear regression on training set\n",
    "lr = LinearRegression()\n",
    "lr.fit(X_train,y_train)\n",
    "lr.score(X_train,y_train)"
   ]
  },
  {
   "cell_type": "code",
   "execution_count": 6,
   "id": "eaaf4c75",
   "metadata": {},
   "outputs": [
    {
     "data": {
      "text/plain": [
       "0.6211840734292156"
      ]
     },
     "execution_count": 6,
     "metadata": {},
     "output_type": "execute_result"
    }
   ],
   "source": [
    "# Score on validation set\n",
    "lr.score(X_val,y_val)"
   ]
  },
  {
   "cell_type": "code",
   "execution_count": null,
   "id": "34106593",
   "metadata": {},
   "outputs": [],
   "source": []
  },
  {
   "cell_type": "code",
   "execution_count": null,
   "id": "62afaf4c",
   "metadata": {},
   "outputs": [],
   "source": []
  },
  {
   "cell_type": "markdown",
   "id": "7d356796",
   "metadata": {},
   "source": [
    "## Polynomial regression Degree 2 "
   ]
  },
  {
   "cell_type": "code",
   "execution_count": 7,
   "id": "25f58a98",
   "metadata": {},
   "outputs": [
    {
     "data": {
      "text/plain": [
       "0.6745565633045432"
      ]
     },
     "execution_count": 7,
     "metadata": {},
     "output_type": "execute_result"
    }
   ],
   "source": [
    "# Create polynomial features\n",
    "poly = PolynomialFeatures(degree=2)\n",
    "\n",
    "\n",
    "#Apply polynomial transofrmation to the train set\n",
    "X_train_poly = poly.fit_transform(X_train)\n",
    "\n",
    "\n",
    "# Apply polynomial transformation to val set\n",
    "X_val_poly = poly.transform(X_val)\n",
    "\n",
    "\n",
    "# Apply polynomial transformation to test set\n",
    "X_test_poly = poly.fit_transform(X_test)\n",
    "\n",
    "\n",
    "# Fit a model using polynomial features\n",
    "lr_poly = LinearRegression()\n",
    "\n",
    "lr_poly.fit(X_train_poly,y_train)\n",
    "\n",
    "lr_poly.score(X_train_poly,y_train)"
   ]
  },
  {
   "cell_type": "code",
   "execution_count": 8,
   "id": "26cf20ca",
   "metadata": {},
   "outputs": [
    {
     "data": {
      "text/plain": [
       "0.6654865027246821"
      ]
     },
     "execution_count": 8,
     "metadata": {},
     "output_type": "execute_result"
    }
   ],
   "source": [
    "# Score on validation set\n",
    "lr_poly.score(X_val_poly, y_val)"
   ]
  },
  {
   "cell_type": "code",
   "execution_count": null,
   "id": "a43c8c68",
   "metadata": {},
   "outputs": [],
   "source": [
    "list(zip(poly.get_feature_names([ 'BedRooms', 'SQFT', 'BathRooms', 'No_Smoke', 'No_Park',\n",
    "       'W_D_Lndry', 'Pets', 'Property_Type']),lr_poly.coef_))"
   ]
  },
  {
   "cell_type": "code",
   "execution_count": null,
   "id": "842fe4b6",
   "metadata": {},
   "outputs": [],
   "source": []
  },
  {
   "cell_type": "code",
   "execution_count": null,
   "id": "d3eb3091",
   "metadata": {},
   "outputs": [],
   "source": []
  },
  {
   "cell_type": "markdown",
   "id": "22728b37",
   "metadata": {},
   "source": [
    "## LassoCV, to a get a model that minimizes errors while keeping the model as simple as possible."
   ]
  },
  {
   "cell_type": "code",
   "execution_count": 9,
   "id": "5ec1ef8f",
   "metadata": {},
   "outputs": [
    {
     "name": "stderr",
     "output_type": "stream",
     "text": [
      "/Users/stay_one/opt/anaconda3/envs/metis/lib/python3.9/site-packages/sklearn/linear_model/_coordinate_descent.py:647: ConvergenceWarning: Objective did not converge. You might want to increase the number of iterations, check the scale of the features or consider increasing regularisation. Duality gap: 1.248e+05, tolerance: 3.550e+04\n",
      "  model = cd_fast.enet_coordinate_descent(\n"
     ]
    },
    {
     "data": {
      "text/plain": [
       "0.6713568365090978"
      ]
     },
     "execution_count": 9,
     "metadata": {},
     "output_type": "execute_result"
    }
   ],
   "source": [
    "# Don't forget to standard scale your data for regularized regression\n",
    "scaler = StandardScaler()\n",
    "\n",
    "\n",
    "#Apply polynomial transofrmation to the train set\n",
    "X_train_poly_scaled = scaler.fit_transform(X_train_poly)\n",
    "\n",
    "\n",
    "# Apply the same scaler to val set\n",
    "X_val_poly_scaled = scaler.transform(X_val_poly)\n",
    "\n",
    "\n",
    "# Apply the same scaler to val set\n",
    "X_test_poly_scaled = scaler.transform(X_test_poly)\n",
    "\n",
    "\n",
    "# Fit a LASSO model using polynomial features\n",
    "lasso = LassoCV()\n",
    "\n",
    "lasso.fit(X_train_poly_scaled,y_train)\n",
    "\n",
    "lasso.score(X_train_poly_scaled,y_train)"
   ]
  },
  {
   "cell_type": "code",
   "execution_count": 10,
   "id": "739b9835",
   "metadata": {},
   "outputs": [
    {
     "data": {
      "text/plain": [
       "0.6709236482600043"
      ]
     },
     "execution_count": 10,
     "metadata": {},
     "output_type": "execute_result"
    }
   ],
   "source": [
    "# Score on validation set\n",
    "lasso.score(X_val_poly_scaled, y_val)"
   ]
  },
  {
   "cell_type": "code",
   "execution_count": null,
   "id": "8dd7a8c4",
   "metadata": {},
   "outputs": [],
   "source": [
    "list(zip(poly.get_feature_names(['SQFT', 'Property_Type','BedRooms', 'BathRooms', 'W_D_Lndry','Pets']),lasso.coef_))"
   ]
  },
  {
   "cell_type": "code",
   "execution_count": null,
   "id": "bb406721",
   "metadata": {},
   "outputs": [],
   "source": []
  },
  {
   "cell_type": "markdown",
   "id": "4317b87a",
   "metadata": {},
   "source": [
    "## Ridge Regression"
   ]
  },
  {
   "cell_type": "code",
   "execution_count": 11,
   "id": "386b3310",
   "metadata": {
    "ExecuteTime": {
     "end_time": "2020-10-09T01:46:28.279332Z",
     "start_time": "2020-10-09T01:46:25.449756Z"
    }
   },
   "outputs": [
    {
     "data": {
      "text/plain": [
       "RidgeCV(alphas=array([1.00000000e-02, 1.01862899e-02, 1.03760502e-02, 1.05693455e-02,\n",
       "       1.07662418e-02, 1.09668060e-02, 1.11711065e-02, 1.13792129e-02,\n",
       "       1.15911962e-02, 1.18071285e-02, 1.20270833e-02, 1.22511358e-02,\n",
       "       1.24793621e-02, 1.27118400e-02, 1.29486487e-02, 1.31898690e-02,\n",
       "       1.34355829e-02, 1.36858742e-02, 1.39408283e-02, 1.42005318e-02,\n",
       "       1.44650734e-02, 1.47345431e-0...\n",
       "       6.54080591e+01, 6.66265452e+01, 6.78677305e+01, 6.91320378e+01,\n",
       "       7.04198979e+01, 7.17317494e+01, 7.30680395e+01, 7.44292233e+01,\n",
       "       7.58157646e+01, 7.72281357e+01, 7.86668179e+01, 8.01323013e+01,\n",
       "       8.16250851e+01, 8.31456781e+01, 8.46945981e+01, 8.62723729e+01,\n",
       "       8.78795401e+01, 8.95166472e+01, 9.11842520e+01, 9.28829225e+01,\n",
       "       9.46132376e+01, 9.63757866e+01, 9.81711702e+01, 1.00000000e+02]),\n",
       "        cv=3)"
      ]
     },
     "execution_count": 11,
     "metadata": {},
     "output_type": "execute_result"
    }
   ],
   "source": [
    "## alphas for the Ridge Cross Validation method to evaluate\n",
    "alphavec = 10**np.linspace(-2,2,500)\n",
    "\n",
    "ridge_model = RidgeCV(alphas=alphavec, cv=3)\n",
    "ridge_model.fit(X_train_poly_scaled, y_train)"
   ]
  },
  {
   "cell_type": "code",
   "execution_count": 12,
   "id": "11b8aa41",
   "metadata": {
    "ExecuteTime": {
     "end_time": "2020-10-09T01:46:28.284060Z",
     "start_time": "2020-10-09T01:46:28.280946Z"
    }
   },
   "outputs": [
    {
     "data": {
      "text/plain": [
       "1.9256135721291967"
      ]
     },
     "execution_count": 12,
     "metadata": {},
     "output_type": "execute_result"
    }
   ],
   "source": [
    "rid_alpha = ridge_model.alpha_\n",
    "rid_alpha"
   ]
  },
  {
   "cell_type": "code",
   "execution_count": 13,
   "id": "5679fb96",
   "metadata": {},
   "outputs": [
    {
     "name": "stdout",
     "output_type": "stream",
     "text": [
      "Ridge Regression train R^2: 0.67352\n",
      "Ridge Regression val R^2: 0.66770\n",
      "\n",
      "Ridge Regression RMSE (train): 280.99719\n",
      "Ridge Regression RMSE (val): 303.69173\n"
     ]
    }
   ],
   "source": [
    "rid = Ridge(alpha=rid_alpha)\n",
    "rid.fit(X_train_poly_scaled, y_train)\n",
    "\n",
    "print(f'Ridge Regression train R^2: {rid.score(X_train_poly_scaled, y_train):.5f}')\n",
    "print(f'Ridge Regression val R^2: {rid.score(X_val_poly_scaled, y_val):.5f}')\n",
    "print(\"\")\n",
    "print(f'Ridge Regression RMSE (train): {mean_squared_error(y_train, rid.predict(X_train_poly_scaled), squared=False):.5f}')\n",
    "print(f'Ridge Regression RMSE (val): {mean_squared_error(y_val, rid.predict(X_val_poly_scaled), squared=False):.5f}')\n",
    "\n"
   ]
  },
  {
   "cell_type": "code",
   "execution_count": null,
   "id": "7ca19dec",
   "metadata": {},
   "outputs": [],
   "source": []
  }
 ],
 "metadata": {
  "kernelspec": {
   "display_name": "Python [conda env:metis] *",
   "language": "python",
   "name": "conda-env-metis-py"
  },
  "language_info": {
   "codemirror_mode": {
    "name": "ipython",
    "version": 3
   },
   "file_extension": ".py",
   "mimetype": "text/x-python",
   "name": "python",
   "nbconvert_exporter": "python",
   "pygments_lexer": "ipython3",
   "version": "3.9.7"
  }
 },
 "nbformat": 4,
 "nbformat_minor": 5
}
